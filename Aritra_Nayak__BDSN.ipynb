{
  "cells": [
    {
      "cell_type": "code",
      "execution_count": null,
      "metadata": {
        "id": "FPo081FBnapj"
      },
      "outputs": [],
      "source": [
        "!apt-get update > /dev/null\n",
        "!apt-get install openjdk-8-jdk-headless -qq > /dev/null\n",
        "#!wget -q http://apache.osuosl.org/spark/spark-2.2.2/spark-2.2.2-bin-hadoop2.7.tgz\n",
        "#!wget -q http://apache.osuosl.org/spark/spark-2.4.0/spark-2.4.0-bin-hadoop2.7.tgz\n",
        "#wget -q http://apache.osuosl.org/spark/spark-2.4.5/spark-2.4.5-bin-hadoop2.7.tgz\n",
        "#!wget -q http://apache.osuosl.org/spark/spark-2.4.6/spark-2.4.6-bin-hadoop2.7.tgz\n",
        "#!wget -q http://apache.osuosl.org/spark/spark-3.0.1/spark-3.0.1-bin-hadoop3.2.tgz\n",
        "!wget -q http://apache.osuosl.org/spark/spark-3.1.2/spark-3.1.2-bin-hadoop3.2.tgz\n",
        "#\n",
        "# if the current version of Spark is not used, there may be errors\n",
        "# check here for current versions http://apache.osuosl.org/spark\n",
        "#\n",
        "#!tar xf spark-2.4.0-bin-hadoop2.7.tgz\n",
        "#!tar xf spark-2.4.5-bin-hadoop2.7.tgz\n",
        "#!tar xf spark-2.4.6-bin-hadoop2.7.tgz\n",
        "#!tar xf spark-3.0.1-bin-hadoop3.2.tgz\n",
        "!tar xf spark-3.1.2-bin-hadoop3.2.tgz\n",
        "#!pip install -q findspark\n",
        "!pip install -q pyspark"
      ]
    },
    {
      "cell_type": "code",
      "execution_count": null,
      "metadata": {
        "id": "7RiFYSkep-3f"
      },
      "outputs": [],
      "source": [
        "import os\n",
        "os.environ[\"JAVA_HOME\"] = \"/usr/lib/jvm/java-8-openjdk-amd64\"\n",
        "#os.environ[\"SPARK_HOME\"] = \"/content/spark-2.4.0-bin-hadoop2.7\"\n",
        "#os.environ[\"SPARK_HOME\"] = \"/content/spark-2.4.5-bin-hadoop2.7\"\n",
        "#os.environ[\"SPARK_HOME\"] = \"/content/spark-2.4.6-bin-hadoop2.7\"\n",
        "#os.environ[\"SPARK_HOME\"] = \"/content/spark-3.0.1-bin-hadoop3.2\"\n",
        "os.environ[\"SPARK_HOME\"] = \"/content/spark-3.1.2-bin-hadoop3.2\""
      ]
    },
    {
      "cell_type": "code",
      "execution_count": null,
      "metadata": {
        "id": "x5XwjMOz2pXO"
      },
      "outputs": [],
      "source": [
        "from pyspark.sql import SparkSession\n",
        "import pyspark.sql.functions as F\n",
        "import pyspark.sql.types as T\n",
        "spark = SparkSession.builder.getOrCreate()"
      ]
    },
    {
      "cell_type": "code",
      "execution_count": null,
      "metadata": {
        "colab": {
          "base_uri": "https://localhost:8080/",
          "height": 219
        },
        "id": "tDeA2LPykamz",
        "outputId": "2c8b4ebd-e0f7-42d6-b3d0-792dd349ea1b"
      },
      "outputs": [
        {
          "data": {
            "text/html": [
              "\n",
              "            <div>\n",
              "                <p><b>SparkSession - in-memory</b></p>\n",
              "                \n",
              "        <div>\n",
              "            <p><b>SparkContext</b></p>\n",
              "\n",
              "            <p><a href=\"http://91426e9236e5:4040\">Spark UI</a></p>\n",
              "\n",
              "            <dl>\n",
              "              <dt>Version</dt>\n",
              "                <dd><code>v3.1.2</code></dd>\n",
              "              <dt>Master</dt>\n",
              "                <dd><code>local[*]</code></dd>\n",
              "              <dt>AppName</dt>\n",
              "                <dd><code>pyspark-shell</code></dd>\n",
              "            </dl>\n",
              "        </div>\n",
              "        \n",
              "            </div>\n",
              "        "
            ],
            "text/plain": [
              "<pyspark.sql.session.SparkSession at 0x7f9fb0070b90>"
            ]
          },
          "execution_count": 4,
          "metadata": {},
          "output_type": "execute_result"
        }
      ],
      "source": [
        "spark"
      ]
    },
    {
      "cell_type": "markdown",
      "metadata": {
        "id": "bZDqkrS2kpdo"
      },
      "source": [
        "Installed the latest version of spark that is version 3"
      ]
    },
    {
      "cell_type": "code",
      "execution_count": null,
      "metadata": {
        "colab": {
          "base_uri": "https://localhost:8080/"
        },
        "id": "5SktPoMMMbII",
        "outputId": "6e8af81c-ec9e-4797-823c-9a15f4a86bf6"
      },
      "outputs": [
        {
          "name": "stdout",
          "output_type": "stream",
          "text": [
            "Drive already mounted at /content/drive; to attempt to forcibly remount, call drive.mount(\"/content/drive\", force_remount=True).\n"
          ]
        }
      ],
      "source": [
        "from google.colab import drive\n",
        "drive.mount('/content/drive')"
      ]
    },
    {
      "cell_type": "markdown",
      "metadata": {
        "id": "6VDYFMftsYYg"
      },
      "source": [
        "Connecting to personal drive so as to access the uploaded dataset"
      ]
    },
    {
      "cell_type": "code",
      "execution_count": null,
      "metadata": {
        "id": "cjiohLFDkmLt"
      },
      "outputs": [],
      "source": [
        "df = spark.read.csv(\"/content/drive/MyDrive/Fraud.csv\",inferSchema = True, header = True)"
      ]
    },
    {
      "cell_type": "markdown",
      "metadata": {
        "id": "VcA26NapsfgR"
      },
      "source": [
        "Reading the CSV dataset by creating an instance\"df\""
      ]
    },
    {
      "cell_type": "code",
      "execution_count": null,
      "metadata": {
        "colab": {
          "base_uri": "https://localhost:8080/"
        },
        "id": "80_I0odurvV9",
        "outputId": "b6580081-25f6-46ea-f629-af600225f480"
      },
      "outputs": [
        {
          "name": "stdout",
          "output_type": "stream",
          "text": [
            "root\n",
            " |-- step: integer (nullable = true)\n",
            " |-- type: string (nullable = true)\n",
            " |-- amount: double (nullable = true)\n",
            " |-- nameOrig: string (nullable = true)\n",
            " |-- oldbalanceOrg: double (nullable = true)\n",
            " |-- newbalanceOrig: double (nullable = true)\n",
            " |-- nameDest: string (nullable = true)\n",
            " |-- oldbalanceDest: double (nullable = true)\n",
            " |-- newbalanceDest: double (nullable = true)\n",
            " |-- isFraud: integer (nullable = true)\n",
            " |-- isFlaggedFraud: integer (nullable = true)\n",
            "\n"
          ]
        }
      ],
      "source": [
        "df.printSchema()"
      ]
    },
    {
      "cell_type": "markdown",
      "metadata": {
        "id": "f1qi132Is9u5"
      },
      "source": [
        "Checking the top 5 rows from our dataframe"
      ]
    },
    {
      "cell_type": "code",
      "execution_count": null,
      "metadata": {
        "colab": {
          "base_uri": "https://localhost:8080/"
        },
        "id": "HIIUBwoNsWcy",
        "outputId": "61475652-6025-483e-a944-2c5921825682"
      },
      "outputs": [
        {
          "name": "stdout",
          "output_type": "stream",
          "text": [
            "+----+--------+--------+-----------+-------------+--------------+-----------+--------------+--------------+-------+--------------+\n",
            "|step|    type|  amount|   nameOrig|oldbalanceOrg|newbalanceOrig|   nameDest|oldbalanceDest|newbalanceDest|isFraud|isFlaggedFraud|\n",
            "+----+--------+--------+-----------+-------------+--------------+-----------+--------------+--------------+-------+--------------+\n",
            "|   1| PAYMENT| 9839.64|C1231006815|     170136.0|     160296.36|M1979787155|           0.0|           0.0|      0|             0|\n",
            "|   1| PAYMENT| 1864.28|C1666544295|      21249.0|      19384.72|M2044282225|           0.0|           0.0|      0|             0|\n",
            "|   1|TRANSFER|   181.0|C1305486145|        181.0|           0.0| C553264065|           0.0|           0.0|      1|             0|\n",
            "|   1|CASH_OUT|   181.0| C840083671|        181.0|           0.0|  C38997010|       21182.0|           0.0|      1|             0|\n",
            "|   1| PAYMENT|11668.14|C2048537720|      41554.0|      29885.86|M1230701703|           0.0|           0.0|      0|             0|\n",
            "+----+--------+--------+-----------+-------------+--------------+-----------+--------------+--------------+-------+--------------+\n",
            "only showing top 5 rows\n",
            "\n"
          ]
        }
      ],
      "source": [
        "df.show(5)"
      ]
    },
    {
      "cell_type": "markdown",
      "metadata": {
        "id": "rRpVApHNtJhC"
      },
      "source": [
        "This a large dataset so we are selecting some of the columns from the above dataset on which we will be perfoming out analysis."
      ]
    },
    {
      "cell_type": "code",
      "execution_count": null,
      "metadata": {
        "id": "OzGD57wUssha"
      },
      "outputs": [],
      "source": [
        "df = df.select(\"type\",\"amount\",\"oldbalanceOrg\",\"newbalanceOrig\", \"isFraud\")"
      ]
    },
    {
      "cell_type": "markdown",
      "metadata": {
        "id": "Vscc_1GUtt8s"
      },
      "source": [
        "First 5 rows form our customized dataset\n"
      ]
    },
    {
      "cell_type": "code",
      "execution_count": null,
      "metadata": {
        "colab": {
          "base_uri": "https://localhost:8080/"
        },
        "id": "BpryCXaftpAs",
        "outputId": "b6cce86e-d799-43fd-d250-f3ad529774af"
      },
      "outputs": [
        {
          "name": "stdout",
          "output_type": "stream",
          "text": [
            "+--------+--------+-------------+--------------+-------+\n",
            "|    type|  amount|oldbalanceOrg|newbalanceOrig|isFraud|\n",
            "+--------+--------+-------------+--------------+-------+\n",
            "| PAYMENT| 9839.64|     170136.0|     160296.36|      0|\n",
            "| PAYMENT| 1864.28|      21249.0|      19384.72|      0|\n",
            "|TRANSFER|   181.0|        181.0|           0.0|      1|\n",
            "|CASH_OUT|   181.0|        181.0|           0.0|      1|\n",
            "| PAYMENT|11668.14|      41554.0|      29885.86|      0|\n",
            "+--------+--------+-------------+--------------+-------+\n",
            "only showing top 5 rows\n",
            "\n"
          ]
        }
      ],
      "source": [
        "df.show(5)"
      ]
    },
    {
      "cell_type": "markdown",
      "metadata": {
        "id": "jYuadY86vTz_"
      },
      "source": [
        "\"**amount**\", \"**oldbalanceOrg**\" and \"**newbalanceorig**\" are continuous coloumn and are found to be almost in same scale therefore we haven't done any preprocessing here at present\n"
      ]
    },
    {
      "cell_type": "markdown",
      "metadata": {
        "id": "Q2diLZ4Vt_K0"
      },
      "source": [
        "**Train/Test split** - We did the train test split at first so that there is no chance of data leakage in our analysis\n"
      ]
    },
    {
      "cell_type": "markdown",
      "metadata": {
        "id": "4qkhqDNhugDc"
      },
      "source": [
        "We have splitted the dataset into 70:30 ratio for training and validating the model respectively. also we have splitted by taking seed equals to 42 so that everytime we run the file we will be working with the same splitted file, and there is no time series data we have used randomsplit to split the data into train and test\n"
      ]
    },
    {
      "cell_type": "code",
      "execution_count": null,
      "metadata": {
        "id": "NuhLLdtFtrZq"
      },
      "outputs": [],
      "source": [
        "train,test = df.randomSplit([0.7,0.3], seed = 42)"
      ]
    },
    {
      "cell_type": "code",
      "execution_count": null,
      "metadata": {
        "colab": {
          "base_uri": "https://localhost:8080/"
        },
        "id": "6YtNpLgEu2Ku",
        "outputId": "a69882f3-56fd-4bcb-fd50-ec8791626a72"
      },
      "outputs": [
        {
          "name": "stdout",
          "output_type": "stream",
          "text": [
            "+-------+------+-------------+--------------+-------+\n",
            "|   type|amount|oldbalanceOrg|newbalanceOrig|isFraud|\n",
            "+-------+------+-------------+--------------+-------+\n",
            "|CASH_IN|  1.42|   1270713.41|    1270714.83|      0|\n",
            "|CASH_IN|  4.35|   4136277.22|    4136281.57|      0|\n",
            "|CASH_IN|  4.71|      50198.0|      50202.71|      0|\n",
            "|CASH_IN|  5.19|      18104.0|      18109.19|      0|\n",
            "|CASH_IN|  5.44|          0.0|          5.44|      0|\n",
            "|CASH_IN|  6.07|     400680.0|     400686.07|      0|\n",
            "|CASH_IN|  8.27|   8428410.94|    8428419.21|      0|\n",
            "|CASH_IN|  8.29|      20392.0|      20400.29|      0|\n",
            "|CASH_IN|  8.44|      39384.0|      39392.44|      0|\n",
            "|CASH_IN| 11.13|   4116439.74|    4116450.87|      0|\n",
            "|CASH_IN| 12.18|     299322.0|     299334.18|      0|\n",
            "|CASH_IN| 12.79|     601743.0|     601755.79|      0|\n",
            "|CASH_IN| 13.86|   6868100.18|    6868114.04|      0|\n",
            "|CASH_IN|  14.4|1.143460813E7| 1.143462253E7|      0|\n",
            "|CASH_IN| 15.59| 1.64294897E7| 1.642950528E7|      0|\n",
            "|CASH_IN|  16.3|2.140511936E7| 2.140513566E7|      0|\n",
            "|CASH_IN| 16.89|          0.0|         16.89|      0|\n",
            "|CASH_IN| 20.34|    991344.41|     991364.74|      0|\n",
            "|CASH_IN| 21.57|     104362.0|     104383.57|      0|\n",
            "|CASH_IN| 22.81|     875946.0|     875968.82|      0|\n",
            "+-------+------+-------------+--------------+-------+\n",
            "only showing top 20 rows\n",
            "\n"
          ]
        }
      ],
      "source": [
        "train.show()"
      ]
    },
    {
      "cell_type": "code",
      "execution_count": null,
      "metadata": {
        "colab": {
          "base_uri": "https://localhost:8080/"
        },
        "id": "GnR7z6gFudBK",
        "outputId": "00f40607-3f14-488e-a815-4aefc73a8123"
      },
      "outputs": [
        {
          "name": "stdout",
          "output_type": "stream",
          "text": [
            "Train set length: 4454014 records\n",
            "Test set length: 1908606 records\n"
          ]
        }
      ],
      "source": [
        "print(f\"Train set length: {train.count()} records\")\n",
        "print(f\"Test set length: {test.count()} records\")"
      ]
    },
    {
      "cell_type": "code",
      "execution_count": null,
      "metadata": {
        "colab": {
          "base_uri": "https://localhost:8080/"
        },
        "id": "vzY-bQ3Ju8gh",
        "outputId": "e56065e6-0a62-4fed-e567-88d2a33d6de2"
      },
      "outputs": [
        {
          "name": "stdout",
          "output_type": "stream",
          "text": [
            "+-------+------+-------------+--------------+-------+\n",
            "|   type|amount|oldbalanceOrg|newbalanceOrig|isFraud|\n",
            "+-------+------+-------------+--------------+-------+\n",
            "|CASH_IN|  4.58|      94241.0|      94245.58|      0|\n",
            "|CASH_IN|  5.66|   5061561.06|    5061566.72|      0|\n",
            "|CASH_IN|   6.5|   1696433.45|    1696439.95|      0|\n",
            "|CASH_IN|  6.76|      11322.0|      11328.76|      0|\n",
            "|CASH_IN|  9.02|   2416260.59|    2416269.61|      0|\n",
            "|CASH_IN|  9.04|      99971.0|      99980.04|      0|\n",
            "|CASH_IN|  9.22|    7730148.9|    7730158.12|      0|\n",
            "|CASH_IN|  13.2|     106204.0|      106217.2|      0|\n",
            "|CASH_IN| 14.36|    613030.46|     613044.82|      0|\n",
            "|CASH_IN| 14.54|    3347286.5|    3347301.03|      0|\n",
            "+-------+------+-------------+--------------+-------+\n",
            "only showing top 10 rows\n",
            "\n"
          ]
        }
      ],
      "source": [
        "test.show(10)"
      ]
    },
    {
      "cell_type": "markdown",
      "metadata": {
        "id": "1_lwQ4-LzB2I"
      },
      "source": [
        "**Dtypes** - In this dataset the column of type string has been treated as a categorical attricute. But sometimes it may happen that we treat a categorical attribute as a numerical one and viceversa, based on our requirements. This need to be carefuly indentified and carry on our preprocessing and feature extraction task accordingly."
      ]
    },
    {
      "cell_type": "code",
      "execution_count": null,
      "metadata": {
        "colab": {
          "base_uri": "https://localhost:8080/"
        },
        "id": "-2ZqObrtw-Ct",
        "outputId": "695e039e-eb61-459b-b466-9e7667ade500"
      },
      "outputs": [
        {
          "data": {
            "text/plain": [
              "[('type', 'string'),\n",
              " ('amount', 'double'),\n",
              " ('oldbalanceOrg', 'double'),\n",
              " ('newbalanceOrig', 'double'),\n",
              " ('isFraud', 'int')]"
            ]
          },
          "execution_count": 15,
          "metadata": {},
          "output_type": "execute_result"
        }
      ],
      "source": [
        "train.dtypes"
      ]
    },
    {
      "cell_type": "markdown",
      "metadata": {
        "id": "mU4dxwMI0Ktn"
      },
      "source": [
        "Separating the categorical and numerical column accordingly"
      ]
    },
    {
      "cell_type": "code",
      "execution_count": null,
      "metadata": {
        "id": "2gnHGMLw0Qj6"
      },
      "outputs": [],
      "source": [
        "catCols = [x for (x, dataType) in train.dtypes if dataType == 'string']"
      ]
    },
    {
      "cell_type": "code",
      "execution_count": null,
      "metadata": {
        "id": "R_Oz0sW90mcr"
      },
      "outputs": [],
      "source": [
        "numCols = [x for (x,dataType) in train.dtypes if ((dataType == \"double\") & (x != \"isFraud\"))]"
      ]
    },
    {
      "cell_type": "code",
      "execution_count": null,
      "metadata": {
        "colab": {
          "base_uri": "https://localhost:8080/"
        },
        "id": "ieRSjHUV09su",
        "outputId": "a5c0aa7d-4a9b-4fc1-802d-8f15c854d77f"
      },
      "outputs": [
        {
          "name": "stdout",
          "output_type": "stream",
          "text": [
            "['type']\n"
          ]
        }
      ],
      "source": [
        "print(catCols)"
      ]
    },
    {
      "cell_type": "code",
      "execution_count": null,
      "metadata": {
        "colab": {
          "base_uri": "https://localhost:8080/"
        },
        "id": "5x4Meq5z1BLg",
        "outputId": "ff63865f-153d-4c28-b515-cd73057e1e7f"
      },
      "outputs": [
        {
          "name": "stdout",
          "output_type": "stream",
          "text": [
            "['amount', 'oldbalanceOrg', 'newbalanceOrig']\n"
          ]
        }
      ],
      "source": [
        "print(numCols)"
      ]
    },
    {
      "cell_type": "markdown",
      "metadata": {
        "id": "dOTNudZw2rrm"
      },
      "source": [
        "**One Hot Encoding** - Feature Extraction"
      ]
    },
    {
      "cell_type": "markdown",
      "metadata": {
        "id": "Zlc6Omvf3MXm"
      },
      "source": [
        "*  **Stringindexer :** Use to convert a single feature into an index   feature as it is mainly used to perform the task of ordering.\n",
        "\n",
        "*  **One Hot Encoding:** converting the different categories of a categorical fetaure into numerical feature for ease of calculation without changing the original or raw dataset.\n"
      ]
    },
    {
      "cell_type": "code",
      "execution_count": null,
      "metadata": {
        "colab": {
          "base_uri": "https://localhost:8080/"
        },
        "id": "06PEhGE81GOe",
        "outputId": "9e104775-8e91-4168-dac0-fb505abfa566"
      },
      "outputs": [
        {
          "data": {
            "text/plain": [
              "[Row(type='TRANSFER'),\n",
              " Row(type='CASH_IN'),\n",
              " Row(type='CASH_OUT'),\n",
              " Row(type='PAYMENT'),\n",
              " Row(type='DEBIT')]"
            ]
          },
          "execution_count": 20,
          "metadata": {},
          "output_type": "execute_result"
        }
      ],
      "source": [
        "train.select(\"type\").distinct().collect() #seeing all the unique/distinct value of the \"type\" column of train set"
      ]
    },
    {
      "cell_type": "code",
      "execution_count": null,
      "metadata": {
        "colab": {
          "base_uri": "https://localhost:8080/"
        },
        "id": "OtVs2c6z4pod",
        "outputId": "6f702d37-62d9-4ae3-a65c-d09c149babf0"
      },
      "outputs": [
        {
          "data": {
            "text/plain": [
              "[Row(type='TRANSFER'),\n",
              " Row(type='CASH_IN'),\n",
              " Row(type='CASH_OUT'),\n",
              " Row(type='PAYMENT'),\n",
              " Row(type='DEBIT')]"
            ]
          },
          "execution_count": 21,
          "metadata": {},
          "output_type": "execute_result"
        }
      ],
      "source": [
        "test.select(\"type\").distinct().collect() #seeing all the unique/distinct value of the \"type\" column of test set."
      ]
    },
    {
      "cell_type": "code",
      "execution_count": null,
      "metadata": {
        "colab": {
          "base_uri": "https://localhost:8080/"
        },
        "id": "OcVfLtzq6NFo",
        "outputId": "bab7e0fe-ab97-4da4-f10b-c7c602fee48d"
      },
      "outputs": [
        {
          "name": "stdout",
          "output_type": "stream",
          "text": [
            "+--------+-------+\n",
            "|    type|  count|\n",
            "+--------+-------+\n",
            "|TRANSFER| 372877|\n",
            "| CASH_IN| 979432|\n",
            "|CASH_OUT|1566920|\n",
            "| PAYMENT|1505837|\n",
            "|   DEBIT|  28948|\n",
            "+--------+-------+\n",
            "\n"
          ]
        }
      ],
      "source": [
        "train.groupBy(\"type\").count().show()  #giving output as the total count of each feature in the type column of train set."
      ]
    },
    {
      "cell_type": "code",
      "execution_count": null,
      "metadata": {
        "id": "NYhCY7VR6aQD"
      },
      "outputs": [],
      "source": [
        "from pyspark.ml.feature import (OneHotEncoder,StringIndexer)"
      ]
    },
    {
      "cell_type": "code",
      "execution_count": null,
      "metadata": {
        "id": "AJp9hQ-Y7AqY"
      },
      "outputs": [],
      "source": [
        "string_indexer = [StringIndexer(inputCol = x, outputCol= x+ \"_StringIndexer\", handleInvalid= \"skip\") for x in catCols]"
      ]
    },
    {
      "cell_type": "code",
      "execution_count": null,
      "metadata": {
        "colab": {
          "base_uri": "https://localhost:8080/"
        },
        "id": "utfui3RL76MY",
        "outputId": "00bb86d0-8653-407f-87c4-9f2551387a0b"
      },
      "outputs": [
        {
          "data": {
            "text/plain": [
              "[StringIndexer_5b2d9dc85f99]"
            ]
          },
          "execution_count": 25,
          "metadata": {},
          "output_type": "execute_result"
        }
      ],
      "source": [
        "string_indexer  #Giving a single stringindexer as output as because there is only one categorial attribute named \"type\"."
      ]
    },
    {
      "cell_type": "code",
      "execution_count": null,
      "metadata": {
        "id": "uH63dxax7_Eo"
      },
      "outputs": [],
      "source": [
        "one_hot_encoder = [OneHotEncoder(inputCols=[f\"{x}_StringIndexer\" for x in catCols], outputCols=[f\"{x}_OneHotEncoder\" for x in catCols])]"
      ]
    },
    {
      "cell_type": "code",
      "execution_count": null,
      "metadata": {
        "colab": {
          "base_uri": "https://localhost:8080/"
        },
        "id": "OJSBFusN85Gv",
        "outputId": "553ac4e0-2915-4511-a21d-faa291e0bd6f"
      },
      "outputs": [
        {
          "data": {
            "text/plain": [
              "[OneHotEncoder_5d829f51b4a3]"
            ]
          },
          "execution_count": 27,
          "metadata": {},
          "output_type": "execute_result"
        }
      ],
      "source": [
        "one_hot_encoder #Giving a single OneHotEncoder as output as because there is only one categorial attribute named \"type\"."
      ]
    },
    {
      "cell_type": "markdown",
      "metadata": {
        "id": "jIv6BOGn_Tn7"
      },
      "source": [
        "**Vector Assembler** - combines the values of input columns into a single vector"
      ]
    },
    {
      "cell_type": "code",
      "execution_count": null,
      "metadata": {
        "id": "254FymnrBSho"
      },
      "outputs": [],
      "source": [
        "from pyspark.ml.feature import VectorAssembler"
      ]
    },
    {
      "cell_type": "code",
      "execution_count": null,
      "metadata": {
        "id": "RQzZVAOV9GTT"
      },
      "outputs": [],
      "source": [
        "assemblerInput = [x for x in numCols]  # not doing any chnage for numerical columns as there are already in the same range\n",
        "assemblerInput += [f\"{x}_OneHotEncoder\" for x in catCols]"
      ]
    },
    {
      "cell_type": "code",
      "execution_count": null,
      "metadata": {
        "colab": {
          "base_uri": "https://localhost:8080/"
        },
        "id": "XAWrTDwRAWCG",
        "outputId": "19d0de56-d5d9-4dd5-a551-6d37e4242c93"
      },
      "outputs": [
        {
          "data": {
            "text/plain": [
              "['amount', 'oldbalanceOrg', 'newbalanceOrig', 'type_OneHotEncoder']"
            ]
          },
          "execution_count": 30,
          "metadata": {},
          "output_type": "execute_result"
        }
      ],
      "source": [
        "assemblerInput #output given for all required columns into one "
      ]
    },
    {
      "cell_type": "code",
      "execution_count": null,
      "metadata": {
        "id": "gPaEwFBJAZMy"
      },
      "outputs": [],
      "source": [
        "vector_assembler = VectorAssembler(inputCols= assemblerInput, outputCol = \"VectorAssembler_features\") #input features into a vector type"
      ]
    },
    {
      "cell_type": "code",
      "execution_count": null,
      "metadata": {
        "id": "Uc0Qfk_cBOCh"
      },
      "outputs": [],
      "source": [
        "stages = []        #inorder to feed the pipeline that we will create we have build the stages to feed into the pipeline\n",
        "stages += string_indexer\n",
        "stages += one_hot_encoder\n",
        "stages += [vector_assembler]"
      ]
    },
    {
      "cell_type": "code",
      "execution_count": null,
      "metadata": {
        "colab": {
          "base_uri": "https://localhost:8080/"
        },
        "id": "ewdE48ASEWYc",
        "outputId": "286e4a91-64f5-462f-edf2-bcb14ab4de2c"
      },
      "outputs": [
        {
          "data": {
            "text/plain": [
              "[StringIndexer_5b2d9dc85f99,\n",
              " OneHotEncoder_5d829f51b4a3,\n",
              " VectorAssembler_40ac4bb8d07b]"
            ]
          },
          "execution_count": 33,
          "metadata": {},
          "output_type": "execute_result"
        }
      ],
      "source": [
        "stages #three stages are shown"
      ]
    },
    {
      "cell_type": "markdown",
      "metadata": {
        "id": "TyG15qpsGtYv"
      },
      "source": [
        "*   time given to see the time taken by the entire cell to execute.\n",
        "*   set the stages into the pipeline\n",
        "*   trained our model by fitting the prepared train data\n",
        "*   based on the training data we transformed our test data to carry out further processes\n",
        "\n"
      ]
    },
    {
      "cell_type": "code",
      "execution_count": null,
      "metadata": {
        "colab": {
          "base_uri": "https://localhost:8080/"
        },
        "id": "V_XjaaJGGAhg",
        "outputId": "211a8b3d-28be-4094-ddaf-cdcc77333049"
      },
      "outputs": [
        {
          "name": "stdout",
          "output_type": "stream",
          "text": [
            "CPU times: user 194 ms, sys: 22.5 ms, total: 216 ms\n",
            "Wall time: 26.8 s\n"
          ]
        }
      ],
      "source": [
        "%%time\n",
        "from pyspark.ml import Pipeline  \n",
        "\n",
        "pipeline = Pipeline().setStages(stages)\n",
        "model = pipeline.fit(train)  \n",
        "\n",
        "pp_df = model.transform(test) \n"
      ]
    },
    {
      "cell_type": "code",
      "execution_count": null,
      "metadata": {
        "colab": {
          "base_uri": "https://localhost:8080/"
        },
        "id": "GiqVxk_pJ1W5",
        "outputId": "03bddec5-ac55-4cf4-939b-dab505944e1c"
      },
      "outputs": [
        {
          "name": "stdout",
          "output_type": "stream",
          "text": [
            "+-------+------+-------------+--------------+--------------------------------------------------+-------+\n",
            "|type   |amount|oldbalanceOrg|newbalanceOrig|VectorAssembler_features                          |isFraud|\n",
            "+-------+------+-------------+--------------+--------------------------------------------------+-------+\n",
            "|CASH_IN|4.58  |94241.0      |94245.58      |[4.58,94241.0,94245.58,0.0,0.0,1.0,0.0]           |0      |\n",
            "|CASH_IN|5.66  |5061561.06   |5061566.72    |[5.66,5061561.06,5061566.72,0.0,0.0,1.0,0.0]      |0      |\n",
            "|CASH_IN|6.5   |1696433.45   |1696439.95    |[6.5,1696433.45,1696439.95,0.0,0.0,1.0,0.0]       |0      |\n",
            "|CASH_IN|6.76  |11322.0      |11328.76      |[6.76,11322.0,11328.76,0.0,0.0,1.0,0.0]           |0      |\n",
            "|CASH_IN|9.02  |2416260.59   |2416269.61    |[9.02,2416260.59,2416269.61,0.0,0.0,1.0,0.0]      |0      |\n",
            "|CASH_IN|9.04  |99971.0      |99980.04      |[9.04,99971.0,99980.04,0.0,0.0,1.0,0.0]           |0      |\n",
            "|CASH_IN|9.22  |7730148.9    |7730158.12    |[9.22,7730148.9,7730158.12,0.0,0.0,1.0,0.0]       |0      |\n",
            "|CASH_IN|13.2  |106204.0     |106217.2      |[13.2,106204.0,106217.2,0.0,0.0,1.0,0.0]          |0      |\n",
            "|CASH_IN|14.36 |613030.46    |613044.82     |[14.36,613030.46,613044.82,0.0,0.0,1.0,0.0]       |0      |\n",
            "|CASH_IN|14.54 |3347286.5    |3347301.03    |[14.54,3347286.5,3347301.03,0.0,0.0,1.0,0.0]      |0      |\n",
            "|CASH_IN|15.52 |4368030.06   |4368045.59    |[15.52,4368030.06,4368045.59,0.0,0.0,1.0,0.0]     |0      |\n",
            "|CASH_IN|17.33 |8964056.72   |8964074.05    |[17.33,8964056.72,8964074.05,0.0,0.0,1.0,0.0]     |0      |\n",
            "|CASH_IN|17.53 |1111294.85   |1111312.37    |[17.53,1111294.85,1111312.37,0.0,0.0,1.0,0.0]     |0      |\n",
            "|CASH_IN|18.53 |951352.78    |951371.31     |[18.53,951352.78,951371.31,0.0,0.0,1.0,0.0]       |0      |\n",
            "|CASH_IN|21.15 |2729078.29   |2729099.44    |[21.15,2729078.29,2729099.44,0.0,0.0,1.0,0.0]     |0      |\n",
            "|CASH_IN|22.31 |0.0          |22.31         |(7,[0,2,5],[22.31,22.31,1.0])                     |0      |\n",
            "|CASH_IN|22.67 |405940.0     |405962.67     |[22.67,405940.0,405962.67,0.0,0.0,1.0,0.0]        |0      |\n",
            "|CASH_IN|24.2  |1.803342949E7|1.803345368E7 |[24.2,1.803342949E7,1.803345368E7,0.0,0.0,1.0,0.0]|0      |\n",
            "|CASH_IN|26.67 |2117097.76   |2117124.43    |[26.67,2117097.76,2117124.43,0.0,0.0,1.0,0.0]     |0      |\n",
            "|CASH_IN|26.78 |51635.0      |51661.78      |[26.78,51635.0,51661.78,0.0,0.0,1.0,0.0]          |0      |\n",
            "+-------+------+-------------+--------------+--------------------------------------------------+-------+\n",
            "only showing top 20 rows\n",
            "\n"
          ]
        }
      ],
      "source": [
        "pp_df.select(\"type\",\"amount\",\"oldbalanceOrg\",\"newbalanceOrig\",\"VectorAssembler_features\", \"isFraud\").show(truncate = False)"
      ]
    },
    {
      "cell_type": "markdown",
      "metadata": {
        "id": "3iKr_9l9OVly"
      },
      "source": [
        "**Logistic regression** - Machine learning Model Building"
      ]
    },
    {
      "cell_type": "code",
      "execution_count": null,
      "metadata": {
        "id": "JmfHcRKKKSKR"
      },
      "outputs": [],
      "source": [
        "from pyspark.ml.classification import LogisticRegression"
      ]
    },
    {
      "cell_type": "code",
      "execution_count": null,
      "metadata": {
        "id": "thEkxAppOiR0"
      },
      "outputs": [],
      "source": [
        "data = pp_df.select(F.col(\"VectorAssembler_features\").alias (\"features\"), F.col(\"isFraud\").alias(\"label\"))"
      ]
    },
    {
      "cell_type": "code",
      "execution_count": null,
      "metadata": {
        "colab": {
          "base_uri": "https://localhost:8080/"
        },
        "id": "9UHDI5oETP3m",
        "outputId": "f7e63690-31a2-4831-db5d-f416ec375559"
      },
      "outputs": [
        {
          "name": "stdout",
          "output_type": "stream",
          "text": [
            "+--------------------------------------------+-----+\n",
            "|features                                    |label|\n",
            "+--------------------------------------------+-----+\n",
            "|[4.58,94241.0,94245.58,0.0,0.0,1.0,0.0]     |0    |\n",
            "|[5.66,5061561.06,5061566.72,0.0,0.0,1.0,0.0]|0    |\n",
            "|[6.5,1696433.45,1696439.95,0.0,0.0,1.0,0.0] |0    |\n",
            "|[6.76,11322.0,11328.76,0.0,0.0,1.0,0.0]     |0    |\n",
            "|[9.02,2416260.59,2416269.61,0.0,0.0,1.0,0.0]|0    |\n",
            "+--------------------------------------------+-----+\n",
            "only showing top 5 rows\n",
            "\n"
          ]
        }
      ],
      "source": [
        "data.show(5,truncate = False)"
      ]
    },
    {
      "cell_type": "code",
      "execution_count": null,
      "metadata": {
        "colab": {
          "base_uri": "https://localhost:8080/"
        },
        "id": "YByuQEEqVAT2",
        "outputId": "44719cc1-e662-4d88-996a-5bd8a0a8b6f3"
      },
      "outputs": [
        {
          "name": "stdout",
          "output_type": "stream",
          "text": [
            "CPU times: user 534 ms, sys: 53 ms, total: 587 ms\n",
            "Wall time: 1min 30s\n"
          ]
        }
      ],
      "source": [
        "%%time\n",
        "model = LogisticRegression().fit(data)"
      ]
    },
    {
      "cell_type": "code",
      "execution_count": null,
      "metadata": {
        "colab": {
          "base_uri": "https://localhost:8080/"
        },
        "id": "ZYT-iSeGVHxv",
        "outputId": "668fd69c-8653-4f0c-a087-ba24c2e76100"
      },
      "outputs": [
        {
          "data": {
            "text/plain": [
              "0.9918417156501285"
            ]
          },
          "execution_count": 62,
          "metadata": {},
          "output_type": "execute_result"
        }
      ],
      "source": [
        "model.summary.areaUnderROC #area under curve"
      ]
    },
    {
      "cell_type": "code",
      "execution_count": null,
      "metadata": {
        "colab": {
          "base_uri": "https://localhost:8080/"
        },
        "id": "fkFOXkmtVU00",
        "outputId": "6018d73d-8229-4a7c-e84e-46f34d375ef8"
      },
      "outputs": [
        {
          "name": "stdout",
          "output_type": "stream",
          "text": [
            "+-------------------+-------------------+\n",
            "|             recall|          precision|\n",
            "+-------------------+-------------------+\n",
            "|                0.0| 0.9195046439628483|\n",
            "|0.35441527446300713| 0.9195046439628483|\n",
            "|  0.469769291964996| 0.6683644595359366|\n",
            "| 0.5338106603023071| 0.5231968810916179|\n",
            "| 0.5731901352426412|0.42848647041332144|\n",
            "| 0.6089896579156723|0.36794039894256186|\n",
            "| 0.6340493237867939| 0.3214357733413995|\n",
            "| 0.6634844868735084| 0.2897342365815529|\n",
            "| 0.6897374701670644| 0.2645308924485126|\n",
            "| 0.7108194112967383|0.24303005575955391|\n",
            "| 0.7287191726332538|0.22475769844190896|\n",
            "| 0.7458233890214797|0.20952061682869594|\n",
            "| 0.7613365155131265| 0.1963681132656202|\n",
            "| 0.7724741447891806|0.18416311047889997|\n",
            "| 0.7852028639618138| 0.1740280349113991|\n",
            "| 0.7975338106603023|  0.165142904208879|\n",
            "| 0.8003182179793158|0.15548686244204019|\n",
            "| 0.8027048528241846|0.14689183287232493|\n",
            "| 0.8042959427207638| 0.1391029168959824|\n",
            "| 0.8066825775656324|0.13225511934263728|\n",
            "+-------------------+-------------------+\n",
            "only showing top 20 rows\n",
            "\n"
          ]
        },
        {
          "name": "stderr",
          "output_type": "stream",
          "text": [
            "/usr/local/lib/python3.7/dist-packages/pyspark/sql/context.py:127: FutureWarning: Deprecated in 3.0.0. Use SparkSession.builder.getOrCreate() instead.\n",
            "  FutureWarning\n"
          ]
        }
      ],
      "source": [
        "model.summary.pr.show() #showig precision and recall"
      ]
    },
    {
      "cell_type": "markdown",
      "metadata": {
        "id": "1oWxBtDjYJbj"
      },
      "source": [
        "**Another way of doing the same project without using pipeline**"
      ]
    },
    {
      "cell_type": "code",
      "execution_count": null,
      "metadata": {
        "id": "BfLvJtD7WhE1"
      },
      "outputs": [],
      "source": [
        "from pyspark.ml.feature import StringIndexer"
      ]
    },
    {
      "cell_type": "code",
      "execution_count": null,
      "metadata": {
        "id": "mZiW9O0sX6Qd"
      },
      "outputs": [],
      "source": [
        "type_indexer = StringIndexer(inputCol=\"type\", outputCol=\"type_indexer\").fit(df)\n",
        "df = type_indexer.transform(df)"
      ]
    },
    {
      "cell_type": "code",
      "execution_count": null,
      "metadata": {
        "colab": {
          "base_uri": "https://localhost:8080/"
        },
        "id": "Gt01_AiLYlXr",
        "outputId": "dcce32b8-d0b6-46f8-ea3b-770fc30e921e"
      },
      "outputs": [
        {
          "name": "stdout",
          "output_type": "stream",
          "text": [
            "+--------+-------+-------------+--------------+-------+------------+\n",
            "|type    |amount |oldbalanceOrg|newbalanceOrig|isFraud|type_indexer|\n",
            "+--------+-------+-------------+--------------+-------+------------+\n",
            "|PAYMENT |9839.64|170136.0     |160296.36     |0      |1.0         |\n",
            "|PAYMENT |1864.28|21249.0      |19384.72      |0      |1.0         |\n",
            "|TRANSFER|181.0  |181.0        |0.0           |1      |3.0         |\n",
            "+--------+-------+-------------+--------------+-------+------------+\n",
            "only showing top 3 rows\n",
            "\n"
          ]
        }
      ],
      "source": [
        "df.show(3,False)"
      ]
    },
    {
      "cell_type": "code",
      "execution_count": null,
      "metadata": {
        "id": "hAyNCEiqYqyy"
      },
      "outputs": [],
      "source": [
        "type_encoder = OneHotEncoder(inputCol=\"type_indexer\", outputCol=\"type_Vector\").fit(df)\n",
        "df = type_encoder.transform(df)"
      ]
    },
    {
      "cell_type": "code",
      "execution_count": null,
      "metadata": {
        "colab": {
          "base_uri": "https://localhost:8080/"
        },
        "id": "lKyCMRBCY484",
        "outputId": "b989ccd2-3123-4c1d-b005-4008321aede4"
      },
      "outputs": [
        {
          "name": "stdout",
          "output_type": "stream",
          "text": [
            "+--------+-------+-------------+--------------+-------+------------+-------------+\n",
            "|type    |amount |oldbalanceOrg|newbalanceOrig|isFraud|type_indexer|type_Vector  |\n",
            "+--------+-------+-------------+--------------+-------+------------+-------------+\n",
            "|PAYMENT |9839.64|170136.0     |160296.36     |0      |1.0         |(4,[1],[1.0])|\n",
            "|PAYMENT |1864.28|21249.0      |19384.72      |0      |1.0         |(4,[1],[1.0])|\n",
            "|TRANSFER|181.0  |181.0        |0.0           |1      |3.0         |(4,[3],[1.0])|\n",
            "+--------+-------+-------------+--------------+-------+------------+-------------+\n",
            "only showing top 3 rows\n",
            "\n"
          ]
        }
      ],
      "source": [
        "df.show(3,False)"
      ]
    },
    {
      "cell_type": "code",
      "execution_count": null,
      "metadata": {
        "colab": {
          "base_uri": "https://localhost:8080/"
        },
        "id": "YD67D5nTZdSI",
        "outputId": "06485821-828e-422f-ba2e-6ba462467dae"
      },
      "outputs": [
        {
          "name": "stdout",
          "output_type": "stream",
          "text": [
            "+--------+-------+\n",
            "|type    |count  |\n",
            "+--------+-------+\n",
            "|CASH_OUT|2237500|\n",
            "|PAYMENT |2151495|\n",
            "|CASH_IN |1399284|\n",
            "|TRANSFER|532909 |\n",
            "|DEBIT   |41432  |\n",
            "+--------+-------+\n",
            "\n"
          ]
        }
      ],
      "source": [
        "df.groupBy('type').count().orderBy('count',ascending=False).show(5,False)"
      ]
    },
    {
      "cell_type": "code",
      "execution_count": null,
      "metadata": {
        "colab": {
          "base_uri": "https://localhost:8080/"
        },
        "id": "ONngi6IxZkcP",
        "outputId": "967d0893-f2ba-4630-89d6-0401f3bd49d0"
      },
      "outputs": [
        {
          "name": "stdout",
          "output_type": "stream",
          "text": [
            "+------------+-------+\n",
            "|type_indexer|count  |\n",
            "+------------+-------+\n",
            "|0.0         |2237500|\n",
            "|1.0         |2151495|\n",
            "|2.0         |1399284|\n",
            "|3.0         |532909 |\n",
            "|4.0         |41432  |\n",
            "+------------+-------+\n",
            "\n"
          ]
        }
      ],
      "source": [
        "df.groupBy('type_indexer').count().orderBy('count',ascending=False).show(5,False)"
      ]
    },
    {
      "cell_type": "code",
      "execution_count": null,
      "metadata": {
        "id": "seSBA6G5Zt9k"
      },
      "outputs": [],
      "source": [
        "df_assembler = VectorAssembler(inputCols=['amount', 'oldbalanceOrg', 'newbalanceOrig', 'type_Vector'], outputCol=\"features\")\n",
        "df = df_assembler.transform(df)"
      ]
    },
    {
      "cell_type": "code",
      "execution_count": null,
      "metadata": {
        "colab": {
          "base_uri": "https://localhost:8080/"
        },
        "id": "GZxb0qG2aXoT",
        "outputId": "ba219f72-54a9-4132-d453-aa94ce24faca"
      },
      "outputs": [
        {
          "name": "stdout",
          "output_type": "stream",
          "text": [
            "+---------------------------------------------+-------+\n",
            "|features                                     |isFraud|\n",
            "+---------------------------------------------+-------+\n",
            "|[9839.64,170136.0,160296.36,0.0,1.0,0.0,0.0] |0      |\n",
            "|[1864.28,21249.0,19384.72,0.0,1.0,0.0,0.0]   |0      |\n",
            "|(7,[0,1,6],[181.0,181.0,1.0])                |1      |\n",
            "|(7,[0,1,3],[181.0,181.0,1.0])                |1      |\n",
            "|[11668.14,41554.0,29885.86,0.0,1.0,0.0,0.0]  |0      |\n",
            "|[7817.71,53860.0,46042.29,0.0,1.0,0.0,0.0]   |0      |\n",
            "|[7107.77,183195.0,176087.23,0.0,1.0,0.0,0.0] |0      |\n",
            "|[7861.64,176087.23,168225.59,0.0,1.0,0.0,0.0]|0      |\n",
            "|(7,[0,1,4],[4024.36,2671.0,1.0])             |0      |\n",
            "|(7,[0,1,2],[5337.77,41720.0,36382.23])       |0      |\n",
            "+---------------------------------------------+-------+\n",
            "only showing top 10 rows\n",
            "\n"
          ]
        }
      ],
      "source": [
        "df.select(['features','isFraud']).show(10,False)"
      ]
    },
    {
      "cell_type": "code",
      "execution_count": null,
      "metadata": {
        "colab": {
          "base_uri": "https://localhost:8080/"
        },
        "id": "IBIWcgp-al0n",
        "outputId": "b470b86f-7d78-4925-c348-ad692d4057c7"
      },
      "outputs": [
        {
          "name": "stdout",
          "output_type": "stream",
          "text": [
            "root\n",
            " |-- type: string (nullable = true)\n",
            " |-- amount: double (nullable = true)\n",
            " |-- oldbalanceOrg: double (nullable = true)\n",
            " |-- newbalanceOrig: double (nullable = true)\n",
            " |-- isFraud: integer (nullable = true)\n",
            " |-- type_indexer: double (nullable = false)\n",
            " |-- type_Vector: vector (nullable = true)\n",
            " |-- features: vector (nullable = true)\n",
            "\n"
          ]
        }
      ],
      "source": [
        "df.printSchema()"
      ]
    },
    {
      "cell_type": "code",
      "execution_count": null,
      "metadata": {
        "id": "HAIrXcTzapjP"
      },
      "outputs": [],
      "source": [
        "model_df=df.select(['features','isFraud'])"
      ]
    },
    {
      "cell_type": "code",
      "execution_count": null,
      "metadata": {
        "id": "Rli4m0Ceav-G"
      },
      "outputs": [],
      "source": [
        "from pyspark.ml.classification import LogisticRegression"
      ]
    },
    {
      "cell_type": "code",
      "execution_count": null,
      "metadata": {
        "id": "fi54R-2-a3Nj"
      },
      "outputs": [],
      "source": [
        "training_df,test_df=model_df.randomSplit([0.70,0.30],seed=42)"
      ]
    },
    {
      "cell_type": "code",
      "execution_count": null,
      "metadata": {
        "colab": {
          "base_uri": "https://localhost:8080/"
        },
        "id": "30EL0mVOa9wJ",
        "outputId": "b096cfea-9554-4538-f7ae-451ddef0c5d0"
      },
      "outputs": [
        {
          "data": {
            "text/plain": [
              "4454014"
            ]
          },
          "execution_count": 84,
          "metadata": {},
          "output_type": "execute_result"
        }
      ],
      "source": [
        "training_df.count()"
      ]
    },
    {
      "cell_type": "code",
      "execution_count": null,
      "metadata": {
        "colab": {
          "base_uri": "https://localhost:8080/"
        },
        "id": "cesLkMGnbCL9",
        "outputId": "672a81b0-428f-4b6d-be00-f52dd249e836"
      },
      "outputs": [
        {
          "name": "stdout",
          "output_type": "stream",
          "text": [
            "+-------+-------+\n",
            "|isFraud|  count|\n",
            "+-------+-------+\n",
            "|      1|   5702|\n",
            "|      0|4448312|\n",
            "+-------+-------+\n",
            "\n"
          ]
        }
      ],
      "source": [
        "training_df.groupBy('isFraud').count().show()"
      ]
    },
    {
      "cell_type": "code",
      "execution_count": null,
      "metadata": {
        "colab": {
          "base_uri": "https://localhost:8080/"
        },
        "id": "CsOLHVIKbQvx",
        "outputId": "80063ad7-02b8-4b8b-fa0e-c5eadf11a303"
      },
      "outputs": [
        {
          "data": {
            "text/plain": [
              "1908606"
            ]
          },
          "execution_count": 86,
          "metadata": {},
          "output_type": "execute_result"
        }
      ],
      "source": [
        "test_df.count()"
      ]
    },
    {
      "cell_type": "code",
      "execution_count": null,
      "metadata": {
        "colab": {
          "base_uri": "https://localhost:8080/"
        },
        "id": "sfrRM_jJbRZc",
        "outputId": "ba75e0c0-b563-4d19-be7d-9ecf4044aa3f"
      },
      "outputs": [
        {
          "name": "stdout",
          "output_type": "stream",
          "text": [
            "+-------+-------+\n",
            "|isFraud|  count|\n",
            "+-------+-------+\n",
            "|      1|   2511|\n",
            "|      0|1906095|\n",
            "+-------+-------+\n",
            "\n"
          ]
        }
      ],
      "source": [
        "test_df.groupBy('isFraud').count().show()"
      ]
    },
    {
      "cell_type": "code",
      "execution_count": null,
      "metadata": {
        "id": "aFXQdubHbWH2"
      },
      "outputs": [],
      "source": [
        "log_reg=LogisticRegression(labelCol='isFraud').fit(training_df)"
      ]
    },
    {
      "cell_type": "code",
      "execution_count": null,
      "metadata": {
        "colab": {
          "base_uri": "https://localhost:8080/"
        },
        "id": "QfDzEvKubawi",
        "outputId": "6b97aeee-e2db-4697-ac7d-3faa8bf06520"
      },
      "outputs": [
        {
          "name": "stderr",
          "output_type": "stream",
          "text": [
            "/usr/local/lib/python3.7/dist-packages/pyspark/sql/context.py:127: FutureWarning: Deprecated in 3.0.0. Use SparkSession.builder.getOrCreate() instead.\n",
            "  FutureWarning\n"
          ]
        }
      ],
      "source": [
        "train_results=log_reg.evaluate(training_df).predictions"
      ]
    },
    {
      "cell_type": "code",
      "execution_count": null,
      "metadata": {
        "colab": {
          "base_uri": "https://localhost:8080/"
        },
        "id": "YJdgof8tbeDe",
        "outputId": "7e5d4881-99d7-4438-a3ae-645526baeea9"
      },
      "outputs": [
        {
          "name": "stdout",
          "output_type": "stream",
          "text": [
            "+-------+----------+----------------------------------------+\n",
            "|isFraud|prediction|probability                             |\n",
            "+-------+----------+----------------------------------------+\n",
            "|1      |1.0       |[0.4829243792191855,0.5170756207808145] |\n",
            "|1      |1.0       |[0.4591004664522527,0.5408995335477473] |\n",
            "|1      |1.0       |[0.4470639647708485,0.5529360352291515] |\n",
            "|1      |1.0       |[0.4391236776510915,0.5608763223489085] |\n",
            "|1      |1.0       |[0.4282459107628161,0.571754089237184]  |\n",
            "|1      |1.0       |[0.40347933763352534,0.5965206623664747]|\n",
            "|1      |1.0       |[0.394387372063457,0.605612627936543]   |\n",
            "|1      |1.0       |[0.38120369507914736,0.6187963049208527]|\n",
            "|1      |1.0       |[0.3556833250832779,0.6443166749167222] |\n",
            "|1      |1.0       |[0.3294937904531852,0.6705062095468148] |\n",
            "+-------+----------+----------------------------------------+\n",
            "only showing top 10 rows\n",
            "\n"
          ]
        }
      ],
      "source": [
        "train_results.filter(train_results['isFraud']==1).filter(train_results['prediction']==1).select(['isFraud','prediction','probability']).show(10,False)"
      ]
    },
    {
      "cell_type": "markdown",
      "metadata": {
        "id": "OVVXkYc3fnzn"
      },
      "source": [
        "Probability at 0 index is for 0 class and probabilty as 1 index is for 1 class"
      ]
    },
    {
      "cell_type": "code",
      "execution_count": null,
      "metadata": {
        "id": "70uGA7ONfTvq"
      },
      "outputs": [],
      "source": [
        "correct_preds=train_results.filter(train_results['isFraud']==1).filter(train_results['prediction']==1).count()"
      ]
    },
    {
      "cell_type": "code",
      "execution_count": null,
      "metadata": {
        "colab": {
          "base_uri": "https://localhost:8080/"
        },
        "id": "rmnJcVMCft74",
        "outputId": "8e5d94e3-746b-4a81-dd44-06f31b3b4b09"
      },
      "outputs": [
        {
          "data": {
            "text/plain": [
              "5702"
            ]
          },
          "execution_count": 94,
          "metadata": {},
          "output_type": "execute_result"
        }
      ],
      "source": [
        "training_df.filter(training_df['isFraud']==1).count()"
      ]
    },
    {
      "cell_type": "code",
      "execution_count": null,
      "metadata": {
        "colab": {
          "base_uri": "https://localhost:8080/"
        },
        "id": "cOekTQvxfzBe",
        "outputId": "41a5ddb9-cb89-45ea-ded6-846c3ce216b3"
      },
      "outputs": [
        {
          "data": {
            "text/plain": [
              "0.4047702560505086"
            ]
          },
          "execution_count": 95,
          "metadata": {},
          "output_type": "execute_result"
        }
      ],
      "source": [
        "#accuracy on training dataset \n",
        "float(correct_preds)/(training_df.filter(training_df['isFraud']==1).count())"
      ]
    },
    {
      "cell_type": "code",
      "execution_count": null,
      "metadata": {
        "colab": {
          "base_uri": "https://localhost:8080/"
        },
        "id": "YQTbnDodf4dB",
        "outputId": "151164c1-5223-49bf-f1ce-79a859aae86e"
      },
      "outputs": [
        {
          "name": "stderr",
          "output_type": "stream",
          "text": [
            "/usr/local/lib/python3.7/dist-packages/pyspark/sql/context.py:127: FutureWarning: Deprecated in 3.0.0. Use SparkSession.builder.getOrCreate() instead.\n",
            "  FutureWarning\n"
          ]
        }
      ],
      "source": [
        "#Test/validation result\n",
        "results=log_reg.evaluate(test_df).predictions"
      ]
    },
    {
      "cell_type": "code",
      "execution_count": null,
      "metadata": {
        "colab": {
          "base_uri": "https://localhost:8080/"
        },
        "id": "FgE1D7MeggrU",
        "outputId": "d074cf42-2fdc-4a53-f66d-ad76aa022f61"
      },
      "outputs": [
        {
          "name": "stdout",
          "output_type": "stream",
          "text": [
            "+-------+----------+\n",
            "|isFraud|prediction|\n",
            "+-------+----------+\n",
            "|0      |0.0       |\n",
            "|0      |0.0       |\n",
            "|0      |0.0       |\n",
            "|0      |0.0       |\n",
            "|0      |0.0       |\n",
            "|0      |0.0       |\n",
            "|0      |0.0       |\n",
            "|0      |0.0       |\n",
            "|0      |0.0       |\n",
            "|0      |0.0       |\n",
            "+-------+----------+\n",
            "only showing top 10 rows\n",
            "\n"
          ]
        }
      ],
      "source": [
        "results.select(['isFraud','prediction']).show(10,False)"
      ]
    },
    {
      "cell_type": "code",
      "execution_count": null,
      "metadata": {
        "colab": {
          "base_uri": "https://localhost:8080/"
        },
        "id": "EZcFKA7_grYZ",
        "outputId": "9adf2d87-1d20-41b9-c1e8-dc7139c721f0"
      },
      "outputs": [
        {
          "name": "stdout",
          "output_type": "stream",
          "text": [
            "root\n",
            " |-- features: vector (nullable = true)\n",
            " |-- isFraud: integer (nullable = true)\n",
            " |-- rawPrediction: vector (nullable = true)\n",
            " |-- probability: vector (nullable = true)\n",
            " |-- prediction: double (nullable = false)\n",
            "\n"
          ]
        }
      ],
      "source": [
        "results.printSchema()"
      ]
    },
    {
      "cell_type": "code",
      "execution_count": null,
      "metadata": {
        "id": "1FCCIw2ngyOo"
      },
      "outputs": [],
      "source": [
        "from pyspark.ml.evaluation import BinaryClassificationEvaluator"
      ]
    },
    {
      "cell_type": "code",
      "execution_count": null,
      "metadata": {
        "colab": {
          "background_save": true
        },
        "id": "1p60saLtg0ex"
      },
      "outputs": [],
      "source": [
        "#confusion matrix\n",
        "true_postives = results[(results.isFraud == 1) & (results.prediction == 1)].count()\n",
        "true_negatives = results[(results.isFraud == 0) & (results.prediction == 0)].count()\n",
        "false_positives = results[(results.isFraud == 0) & (results.prediction == 1)].count()\n",
        "false_negatives = results[(results.isFraud == 1) & (results.prediction == 0)].count()"
      ]
    },
    {
      "cell_type": "code",
      "execution_count": null,
      "metadata": {
        "colab": {
          "background_save": true
        },
        "id": "mnduaY_Pg9DM",
        "outputId": "0d3a2247-e2a5-4d57-d972-17171844c829"
      },
      "outputs": [
        {
          "name": "stdout",
          "output_type": "stream",
          "text": [
            "993\n",
            "1905928\n",
            "167\n",
            "1518\n",
            "1908606\n",
            "1908606\n"
          ]
        }
      ],
      "source": [
        "print (true_postives)\n",
        "print (true_negatives)\n",
        "print (false_positives)\n",
        "print (false_negatives)\n",
        "print(true_postives+true_negatives+false_positives+false_negatives)\n",
        "print (results.count())"
      ]
    },
    {
      "cell_type": "code",
      "execution_count": null,
      "metadata": {
        "colab": {
          "background_save": true
        },
        "id": "0TMPIJwBg_fQ",
        "outputId": "e06add1b-7157-42f2-93d2-70842bf3ed8f"
      },
      "outputs": [
        {
          "name": "stdout",
          "output_type": "stream",
          "text": [
            "0.3954599761051374\n"
          ]
        }
      ],
      "source": [
        "recall = float(true_postives)/(true_postives + false_negatives)\n",
        "print(recall)"
      ]
    },
    {
      "cell_type": "code",
      "execution_count": null,
      "metadata": {
        "colab": {
          "background_save": true
        },
        "id": "mAJW9ZdDhBqw",
        "outputId": "3c8d3a2c-a4fe-48b6-9b77-9e7c53d3b0ba"
      },
      "outputs": [
        {
          "name": "stdout",
          "output_type": "stream",
          "text": [
            "0.8560344827586207\n"
          ]
        }
      ],
      "source": [
        "precision = float(true_postives) / (true_postives + false_positives)\n",
        "print(precision)"
      ]
    },
    {
      "cell_type": "code",
      "execution_count": null,
      "metadata": {
        "colab": {
          "background_save": true
        },
        "id": "4xyB9ORchGZs",
        "outputId": "a5b43d7d-e9d5-400d-cfd2-62446a29b7fe"
      },
      "outputs": [
        {
          "name": "stdout",
          "output_type": "stream",
          "text": [
            "0.9991171567101853\n"
          ]
        }
      ],
      "source": [
        "accuracy=float((true_postives+true_negatives) /(results.count()))\n",
        "print(accuracy)"
      ]
    },
    {
      "cell_type": "code",
      "execution_count": null,
      "metadata": {
        "id": "OMQmgWTOhG1w"
      },
      "outputs": [],
      "source": [
        "\n"
      ]
    }
  ],
  "metadata": {
    "colab": {
      "name": "Aritra_Nayak_ BDSN.ipynb",
      "provenance": []
    },
    "kernelspec": {
      "display_name": "Python 3",
      "name": "python3"
    },
    "language_info": {
      "name": "python"
    }
  },
  "nbformat": 4,
  "nbformat_minor": 0
}