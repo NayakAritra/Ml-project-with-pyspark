{
  "cells": [
    {
      "cell_type": "code",
      "execution_count": 1,
      "metadata": {
        "id": "FPo081FBnapj",
        "colab": {
          "base_uri": "https://localhost:8080/"
        },
        "outputId": "4b7b90a4-013d-490d-80e1-b829fad906e3"
      },
      "outputs": [
        {
          "output_type": "stream",
          "name": "stdout",
          "text": [
            "\u001b[K     |████████████████████████████████| 281.4 MB 35 kB/s \n",
            "\u001b[K     |████████████████████████████████| 198 kB 58.1 MB/s \n",
            "\u001b[?25h  Building wheel for pyspark (setup.py) ... \u001b[?25l\u001b[?25hdone\n"
          ]
        }
      ],
      "source": [
        "!apt-get update > /dev/null\n",
        "!apt-get install openjdk-8-jdk-headless -qq > /dev/null\n",
        "#!wget -q http://apache.osuosl.org/spark/spark-2.2.2/spark-2.2.2-bin-hadoop2.7.tgz\n",
        "#!wget -q http://apache.osuosl.org/spark/spark-2.4.0/spark-2.4.0-bin-hadoop2.7.tgz\n",
        "#wget -q http://apache.osuosl.org/spark/spark-2.4.5/spark-2.4.5-bin-hadoop2.7.tgz\n",
        "#!wget -q http://apache.osuosl.org/spark/spark-2.4.6/spark-2.4.6-bin-hadoop2.7.tgz\n",
        "#!wget -q http://apache.osuosl.org/spark/spark-3.0.1/spark-3.0.1-bin-hadoop3.2.tgz\n",
        "!wget -q http://apache.osuosl.org/spark/spark-3.1.2/spark-3.1.2-bin-hadoop3.2.tgz\n",
        "#\n",
        "# if the current version of Spark is not used, there may be errors\n",
        "# check here for current versions http://apache.osuosl.org/spark\n",
        "#\n",
        "#!tar xf spark-2.4.0-bin-hadoop2.7.tgz\n",
        "#!tar xf spark-2.4.5-bin-hadoop2.7.tgz\n",
        "#!tar xf spark-2.4.6-bin-hadoop2.7.tgz\n",
        "#!tar xf spark-3.0.1-bin-hadoop3.2.tgz\n",
        "!tar xf spark-3.1.2-bin-hadoop3.2.tgz\n",
        "#!pip install -q findspark\n",
        "!pip install -q pyspark"
      ]
    },
    {
      "cell_type": "code",
      "execution_count": 2,
      "metadata": {
        "id": "7RiFYSkep-3f"
      },
      "outputs": [],
      "source": [
        "import os\n",
        "os.environ[\"JAVA_HOME\"] = \"/usr/lib/jvm/java-8-openjdk-amd64\"\n",
        "#os.environ[\"SPARK_HOME\"] = \"/content/spark-2.4.0-bin-hadoop2.7\"\n",
        "#os.environ[\"SPARK_HOME\"] = \"/content/spark-2.4.5-bin-hadoop2.7\"\n",
        "#os.environ[\"SPARK_HOME\"] = \"/content/spark-2.4.6-bin-hadoop2.7\"\n",
        "#os.environ[\"SPARK_HOME\"] = \"/content/spark-3.0.1-bin-hadoop3.2\"\n",
        "os.environ[\"SPARK_HOME\"] = \"/content/spark-3.1.2-bin-hadoop3.2\""
      ]
    },
    {
      "cell_type": "code",
      "execution_count": 3,
      "metadata": {
        "id": "x5XwjMOz2pXO"
      },
      "outputs": [],
      "source": [
        "from pyspark.sql import SparkSession\n",
        "import pyspark.sql.functions as F\n",
        "import pyspark.sql.types as T\n",
        "spark = SparkSession.builder.getOrCreate()"
      ]
    },
    {
      "cell_type": "code",
      "execution_count": 4,
      "metadata": {
        "colab": {
          "base_uri": "https://localhost:8080/",
          "height": 219
        },
        "id": "tDeA2LPykamz",
        "outputId": "f4357af8-e1a8-4918-c8cf-cc4541fea171"
      },
      "outputs": [
        {
          "output_type": "execute_result",
          "data": {
            "text/html": [
              "\n",
              "            <div>\n",
              "                <p><b>SparkSession - in-memory</b></p>\n",
              "                \n",
              "        <div>\n",
              "            <p><b>SparkContext</b></p>\n",
              "\n",
              "            <p><a href=\"http://c29adcaf4f27:4040\">Spark UI</a></p>\n",
              "\n",
              "            <dl>\n",
              "              <dt>Version</dt>\n",
              "                <dd><code>v3.1.2</code></dd>\n",
              "              <dt>Master</dt>\n",
              "                <dd><code>local[*]</code></dd>\n",
              "              <dt>AppName</dt>\n",
              "                <dd><code>pyspark-shell</code></dd>\n",
              "            </dl>\n",
              "        </div>\n",
              "        \n",
              "            </div>\n",
              "        "
            ],
            "text/plain": [
              "<pyspark.sql.session.SparkSession at 0x7f8915a6f5d0>"
            ]
          },
          "metadata": {},
          "execution_count": 4
        }
      ],
      "source": [
        "spark"
      ]
    },
    {
      "cell_type": "markdown",
      "metadata": {
        "id": "bZDqkrS2kpdo"
      },
      "source": [
        "Installed the latest version of spark that is version 3"
      ]
    },
    {
      "cell_type": "code",
      "execution_count": 5,
      "metadata": {
        "colab": {
          "base_uri": "https://localhost:8080/"
        },
        "id": "5SktPoMMMbII",
        "outputId": "e0992ccb-c040-41f0-a938-9d8385915d2c"
      },
      "outputs": [
        {
          "output_type": "stream",
          "name": "stdout",
          "text": [
            "Mounted at /content/drive\n"
          ]
        }
      ],
      "source": [
        "from google.colab import drive\n",
        "drive.mount('/content/drive')"
      ]
    },
    {
      "cell_type": "markdown",
      "metadata": {
        "id": "6VDYFMftsYYg"
      },
      "source": [
        "Connecting to personal drive so as to access the uploaded dataset"
      ]
    },
    {
      "cell_type": "code",
      "execution_count": 6,
      "metadata": {
        "id": "cjiohLFDkmLt"
      },
      "outputs": [],
      "source": [
        "df = spark.read.csv(\"/content/drive/MyDrive/Fraud.csv\",inferSchema = True, header = True)"
      ]
    },
    {
      "cell_type": "markdown",
      "metadata": {
        "id": "VcA26NapsfgR"
      },
      "source": [
        "Reading the CSV dataset by creating an instance\"df\""
      ]
    },
    {
      "cell_type": "code",
      "execution_count": 7,
      "metadata": {
        "colab": {
          "base_uri": "https://localhost:8080/"
        },
        "id": "80_I0odurvV9",
        "outputId": "8be2b715-adca-41ad-d010-34f562ff295e"
      },
      "outputs": [
        {
          "output_type": "stream",
          "name": "stdout",
          "text": [
            "root\n",
            " |-- step: integer (nullable = true)\n",
            " |-- type: string (nullable = true)\n",
            " |-- amount: double (nullable = true)\n",
            " |-- nameOrig: string (nullable = true)\n",
            " |-- oldbalanceOrg: double (nullable = true)\n",
            " |-- newbalanceOrig: double (nullable = true)\n",
            " |-- nameDest: string (nullable = true)\n",
            " |-- oldbalanceDest: double (nullable = true)\n",
            " |-- newbalanceDest: double (nullable = true)\n",
            " |-- isFraud: integer (nullable = true)\n",
            " |-- isFlaggedFraud: integer (nullable = true)\n",
            "\n"
          ]
        }
      ],
      "source": [
        "df.printSchema()"
      ]
    },
    {
      "cell_type": "markdown",
      "metadata": {
        "id": "f1qi132Is9u5"
      },
      "source": [
        "Checking the top 5 rows from our dataframe"
      ]
    },
    {
      "cell_type": "code",
      "execution_count": 8,
      "metadata": {
        "colab": {
          "base_uri": "https://localhost:8080/"
        },
        "id": "HIIUBwoNsWcy",
        "outputId": "7fd4964d-8e93-4692-9b32-a3158cbc7e9b"
      },
      "outputs": [
        {
          "output_type": "stream",
          "name": "stdout",
          "text": [
            "+----+--------+--------+-----------+-------------+--------------+-----------+--------------+--------------+-------+--------------+\n",
            "|step|    type|  amount|   nameOrig|oldbalanceOrg|newbalanceOrig|   nameDest|oldbalanceDest|newbalanceDest|isFraud|isFlaggedFraud|\n",
            "+----+--------+--------+-----------+-------------+--------------+-----------+--------------+--------------+-------+--------------+\n",
            "|   1| PAYMENT| 9839.64|C1231006815|     170136.0|     160296.36|M1979787155|           0.0|           0.0|      0|             0|\n",
            "|   1| PAYMENT| 1864.28|C1666544295|      21249.0|      19384.72|M2044282225|           0.0|           0.0|      0|             0|\n",
            "|   1|TRANSFER|   181.0|C1305486145|        181.0|           0.0| C553264065|           0.0|           0.0|      1|             0|\n",
            "|   1|CASH_OUT|   181.0| C840083671|        181.0|           0.0|  C38997010|       21182.0|           0.0|      1|             0|\n",
            "|   1| PAYMENT|11668.14|C2048537720|      41554.0|      29885.86|M1230701703|           0.0|           0.0|      0|             0|\n",
            "+----+--------+--------+-----------+-------------+--------------+-----------+--------------+--------------+-------+--------------+\n",
            "only showing top 5 rows\n",
            "\n"
          ]
        }
      ],
      "source": [
        "df.show(5)"
      ]
    },
    {
      "cell_type": "markdown",
      "metadata": {
        "id": "rRpVApHNtJhC"
      },
      "source": [
        "This a large dataset so we are selecting some of the columns from the above dataset on which we will be perfoming out analysis."
      ]
    },
    {
      "cell_type": "code",
      "source": [
        "df.count()"
      ],
      "metadata": {
        "colab": {
          "base_uri": "https://localhost:8080/"
        },
        "id": "q7rkaGB8TAj7",
        "outputId": "58c17407-41b4-4b57-e3dc-3fd20761c390"
      },
      "execution_count": 76,
      "outputs": [
        {
          "output_type": "execute_result",
          "data": {
            "text/plain": [
              "6362620"
            ]
          },
          "metadata": {},
          "execution_count": 76
        }
      ]
    },
    {
      "cell_type": "code",
      "source": [
        "df.groupBy('isFraud').count().show()"
      ],
      "metadata": {
        "colab": {
          "base_uri": "https://localhost:8080/"
        },
        "id": "Sg3ZwFMeTot-",
        "outputId": "83b2ad1d-5192-4bbe-ddd1-066bf2fce0f6"
      },
      "execution_count": 77,
      "outputs": [
        {
          "output_type": "stream",
          "name": "stdout",
          "text": [
            "+-------+-------+\n",
            "|isFraud|  count|\n",
            "+-------+-------+\n",
            "|      1|   8213|\n",
            "|      0|6354407|\n",
            "+-------+-------+\n",
            "\n"
          ]
        }
      ]
    },
    {
      "cell_type": "code",
      "execution_count": 9,
      "metadata": {
        "id": "OzGD57wUssha"
      },
      "outputs": [],
      "source": [
        "df = df.select(\"type\",\"amount\",\"oldbalanceOrg\",\"newbalanceOrig\", \"isFraud\")"
      ]
    },
    {
      "cell_type": "markdown",
      "metadata": {
        "id": "Vscc_1GUtt8s"
      },
      "source": [
        "First 5 rows form our customized dataset\n"
      ]
    },
    {
      "cell_type": "code",
      "execution_count": 10,
      "metadata": {
        "colab": {
          "base_uri": "https://localhost:8080/"
        },
        "id": "BpryCXaftpAs",
        "outputId": "318e2221-353b-4668-86cc-4405958a5efb"
      },
      "outputs": [
        {
          "output_type": "stream",
          "name": "stdout",
          "text": [
            "+--------+--------+-------------+--------------+-------+\n",
            "|    type|  amount|oldbalanceOrg|newbalanceOrig|isFraud|\n",
            "+--------+--------+-------------+--------------+-------+\n",
            "| PAYMENT| 9839.64|     170136.0|     160296.36|      0|\n",
            "| PAYMENT| 1864.28|      21249.0|      19384.72|      0|\n",
            "|TRANSFER|   181.0|        181.0|           0.0|      1|\n",
            "|CASH_OUT|   181.0|        181.0|           0.0|      1|\n",
            "| PAYMENT|11668.14|      41554.0|      29885.86|      0|\n",
            "+--------+--------+-------------+--------------+-------+\n",
            "only showing top 5 rows\n",
            "\n"
          ]
        }
      ],
      "source": [
        "df.show(5)"
      ]
    },
    {
      "cell_type": "markdown",
      "metadata": {
        "id": "jYuadY86vTz_"
      },
      "source": [
        "\"**amount**\", \"**oldbalanceOrg**\" and \"**newbalanceorig**\" are continuous coloumn and are found to be almost in same scale therefore we haven't done any preprocessing here at present\n"
      ]
    },
    {
      "cell_type": "markdown",
      "metadata": {
        "id": "Q2diLZ4Vt_K0"
      },
      "source": [
        "**Train/Test split** - We did the train test split at first so that there is no chance of data leakage in our analysis\n"
      ]
    },
    {
      "cell_type": "markdown",
      "metadata": {
        "id": "4qkhqDNhugDc"
      },
      "source": [
        "We have splitted the dataset into 70:30 ratio for training and validating the model respectively. also we have splitted by taking seed equals to 42 so that everytime we run the file we will be working with the same splitted file, and there is no time series data we have used randomsplit to split the data into train and test\n"
      ]
    },
    {
      "cell_type": "code",
      "execution_count": 11,
      "metadata": {
        "id": "NuhLLdtFtrZq"
      },
      "outputs": [],
      "source": [
        "train,test = df.randomSplit([0.7,0.3], seed = 42)"
      ]
    },
    {
      "cell_type": "code",
      "execution_count": 12,
      "metadata": {
        "colab": {
          "base_uri": "https://localhost:8080/"
        },
        "id": "6YtNpLgEu2Ku",
        "outputId": "4f18da61-bd63-45a9-ef77-efb69c15240a"
      },
      "outputs": [
        {
          "output_type": "stream",
          "name": "stdout",
          "text": [
            "+-------+------+-------------+--------------+-------+\n",
            "|   type|amount|oldbalanceOrg|newbalanceOrig|isFraud|\n",
            "+-------+------+-------------+--------------+-------+\n",
            "|CASH_IN|  1.42|   1270713.41|    1270714.83|      0|\n",
            "|CASH_IN|  4.35|   4136277.22|    4136281.57|      0|\n",
            "|CASH_IN|  4.71|      50198.0|      50202.71|      0|\n",
            "|CASH_IN|  5.19|      18104.0|      18109.19|      0|\n",
            "|CASH_IN|  5.44|          0.0|          5.44|      0|\n",
            "|CASH_IN|  6.07|     400680.0|     400686.07|      0|\n",
            "|CASH_IN|  8.27|   8428410.94|    8428419.21|      0|\n",
            "|CASH_IN|  8.29|      20392.0|      20400.29|      0|\n",
            "|CASH_IN|  8.44|      39384.0|      39392.44|      0|\n",
            "|CASH_IN| 11.13|   4116439.74|    4116450.87|      0|\n",
            "|CASH_IN| 12.18|     299322.0|     299334.18|      0|\n",
            "|CASH_IN| 12.79|     601743.0|     601755.79|      0|\n",
            "|CASH_IN| 13.86|   6868100.18|    6868114.04|      0|\n",
            "|CASH_IN|  14.4|1.143460813E7| 1.143462253E7|      0|\n",
            "|CASH_IN| 15.59| 1.64294897E7| 1.642950528E7|      0|\n",
            "|CASH_IN|  16.3|2.140511936E7| 2.140513566E7|      0|\n",
            "|CASH_IN| 16.89|          0.0|         16.89|      0|\n",
            "|CASH_IN| 20.34|    991344.41|     991364.74|      0|\n",
            "|CASH_IN| 21.57|     104362.0|     104383.57|      0|\n",
            "|CASH_IN| 22.81|     875946.0|     875968.82|      0|\n",
            "+-------+------+-------------+--------------+-------+\n",
            "only showing top 20 rows\n",
            "\n"
          ]
        }
      ],
      "source": [
        "train.show()"
      ]
    },
    {
      "cell_type": "code",
      "execution_count": 13,
      "metadata": {
        "colab": {
          "base_uri": "https://localhost:8080/"
        },
        "id": "GnR7z6gFudBK",
        "outputId": "05065f70-d39d-4eab-ade7-2d7493888a1b"
      },
      "outputs": [
        {
          "output_type": "stream",
          "name": "stdout",
          "text": [
            "Train set length: 4454014 records\n",
            "Test set length: 1908606 records\n"
          ]
        }
      ],
      "source": [
        "print(f\"Train set length: {train.count()} records\")\n",
        "print(f\"Test set length: {test.count()} records\")"
      ]
    },
    {
      "cell_type": "code",
      "execution_count": 14,
      "metadata": {
        "colab": {
          "base_uri": "https://localhost:8080/"
        },
        "id": "vzY-bQ3Ju8gh",
        "outputId": "9dc08bef-8163-4461-c61b-08f5116a0c50"
      },
      "outputs": [
        {
          "output_type": "stream",
          "name": "stdout",
          "text": [
            "+-------+------+-------------+--------------+-------+\n",
            "|   type|amount|oldbalanceOrg|newbalanceOrig|isFraud|\n",
            "+-------+------+-------------+--------------+-------+\n",
            "|CASH_IN|  4.58|      94241.0|      94245.58|      0|\n",
            "|CASH_IN|  5.66|   5061561.06|    5061566.72|      0|\n",
            "|CASH_IN|   6.5|   1696433.45|    1696439.95|      0|\n",
            "|CASH_IN|  6.76|      11322.0|      11328.76|      0|\n",
            "|CASH_IN|  9.02|   2416260.59|    2416269.61|      0|\n",
            "|CASH_IN|  9.04|      99971.0|      99980.04|      0|\n",
            "|CASH_IN|  9.22|    7730148.9|    7730158.12|      0|\n",
            "|CASH_IN|  13.2|     106204.0|      106217.2|      0|\n",
            "|CASH_IN| 14.36|    613030.46|     613044.82|      0|\n",
            "|CASH_IN| 14.54|    3347286.5|    3347301.03|      0|\n",
            "+-------+------+-------------+--------------+-------+\n",
            "only showing top 10 rows\n",
            "\n"
          ]
        }
      ],
      "source": [
        "test.show(10)"
      ]
    },
    {
      "cell_type": "markdown",
      "metadata": {
        "id": "1_lwQ4-LzB2I"
      },
      "source": [
        "**Dtypes** - In this dataset the column of type string has been treated as a categorical attricute. But sometimes it may happen that we treat a categorical attribute as a numerical one and viceversa, based on our requirements. This need to be carefuly indentified and carry on our preprocessing and feature extraction task accordingly."
      ]
    },
    {
      "cell_type": "code",
      "execution_count": 15,
      "metadata": {
        "colab": {
          "base_uri": "https://localhost:8080/"
        },
        "id": "-2ZqObrtw-Ct",
        "outputId": "82eb737b-ddbe-490f-df0f-7fac6bddac30"
      },
      "outputs": [
        {
          "output_type": "execute_result",
          "data": {
            "text/plain": [
              "[('type', 'string'),\n",
              " ('amount', 'double'),\n",
              " ('oldbalanceOrg', 'double'),\n",
              " ('newbalanceOrig', 'double'),\n",
              " ('isFraud', 'int')]"
            ]
          },
          "metadata": {},
          "execution_count": 15
        }
      ],
      "source": [
        "train.dtypes"
      ]
    },
    {
      "cell_type": "markdown",
      "metadata": {
        "id": "mU4dxwMI0Ktn"
      },
      "source": [
        "Separating the categorical and numerical column accordingly"
      ]
    },
    {
      "cell_type": "code",
      "execution_count": 16,
      "metadata": {
        "id": "2gnHGMLw0Qj6"
      },
      "outputs": [],
      "source": [
        "catCols = [x for (x, dataType) in train.dtypes if dataType == 'string']"
      ]
    },
    {
      "cell_type": "code",
      "execution_count": 17,
      "metadata": {
        "id": "R_Oz0sW90mcr"
      },
      "outputs": [],
      "source": [
        "numCols = [x for (x,dataType) in train.dtypes if ((dataType == \"double\") & (x != \"isFraud\"))]"
      ]
    },
    {
      "cell_type": "code",
      "execution_count": 18,
      "metadata": {
        "colab": {
          "base_uri": "https://localhost:8080/"
        },
        "id": "ieRSjHUV09su",
        "outputId": "43cd6429-65c8-4baa-80d8-53d2ad705ea3"
      },
      "outputs": [
        {
          "output_type": "stream",
          "name": "stdout",
          "text": [
            "['type']\n"
          ]
        }
      ],
      "source": [
        "print(catCols)"
      ]
    },
    {
      "cell_type": "code",
      "execution_count": 19,
      "metadata": {
        "colab": {
          "base_uri": "https://localhost:8080/"
        },
        "id": "5x4Meq5z1BLg",
        "outputId": "38e7f352-016b-4125-9944-80a8ff8c6cfe"
      },
      "outputs": [
        {
          "output_type": "stream",
          "name": "stdout",
          "text": [
            "['amount', 'oldbalanceOrg', 'newbalanceOrig']\n"
          ]
        }
      ],
      "source": [
        "print(numCols)"
      ]
    },
    {
      "cell_type": "markdown",
      "metadata": {
        "id": "dOTNudZw2rrm"
      },
      "source": [
        "**One Hot Encoding** - Feature Extraction"
      ]
    },
    {
      "cell_type": "markdown",
      "metadata": {
        "id": "Zlc6Omvf3MXm"
      },
      "source": [
        "*  **Stringindexer :** Use to convert a single feature into an index   feature as it is mainly used to perform the task of ordering.\n",
        "\n",
        "*  **One Hot Encoding:** converting the different categories of a categorical fetaure into numerical feature for ease of calculation without changing the original or raw dataset.\n"
      ]
    },
    {
      "cell_type": "code",
      "execution_count": 20,
      "metadata": {
        "colab": {
          "base_uri": "https://localhost:8080/"
        },
        "id": "06PEhGE81GOe",
        "outputId": "1b536452-6d06-49d4-cfa4-3c4bece6f299"
      },
      "outputs": [
        {
          "output_type": "execute_result",
          "data": {
            "text/plain": [
              "[Row(type='TRANSFER'),\n",
              " Row(type='CASH_IN'),\n",
              " Row(type='CASH_OUT'),\n",
              " Row(type='PAYMENT'),\n",
              " Row(type='DEBIT')]"
            ]
          },
          "metadata": {},
          "execution_count": 20
        }
      ],
      "source": [
        "train.select(\"type\").distinct().collect() #seeing all the unique/distinct value of the \"type\" column of train set"
      ]
    },
    {
      "cell_type": "code",
      "execution_count": 21,
      "metadata": {
        "colab": {
          "base_uri": "https://localhost:8080/"
        },
        "id": "OtVs2c6z4pod",
        "outputId": "a6292ab7-66f9-4453-faff-4ee1ab60fe8f"
      },
      "outputs": [
        {
          "output_type": "execute_result",
          "data": {
            "text/plain": [
              "[Row(type='TRANSFER'),\n",
              " Row(type='CASH_IN'),\n",
              " Row(type='CASH_OUT'),\n",
              " Row(type='PAYMENT'),\n",
              " Row(type='DEBIT')]"
            ]
          },
          "metadata": {},
          "execution_count": 21
        }
      ],
      "source": [
        "test.select(\"type\").distinct().collect() #seeing all the unique/distinct value of the \"type\" column of test set."
      ]
    },
    {
      "cell_type": "code",
      "execution_count": 22,
      "metadata": {
        "colab": {
          "base_uri": "https://localhost:8080/"
        },
        "id": "OcVfLtzq6NFo",
        "outputId": "21d58636-0bcb-4529-e34e-5352b31a39c7"
      },
      "outputs": [
        {
          "output_type": "stream",
          "name": "stdout",
          "text": [
            "+--------+-------+\n",
            "|    type|  count|\n",
            "+--------+-------+\n",
            "|TRANSFER| 372877|\n",
            "| CASH_IN| 979432|\n",
            "|CASH_OUT|1566920|\n",
            "| PAYMENT|1505837|\n",
            "|   DEBIT|  28948|\n",
            "+--------+-------+\n",
            "\n"
          ]
        }
      ],
      "source": [
        "train.groupBy(\"type\").count().show()  #giving output as the total count of each feature in the type column of train set."
      ]
    },
    {
      "cell_type": "code",
      "execution_count": 23,
      "metadata": {
        "id": "NYhCY7VR6aQD"
      },
      "outputs": [],
      "source": [
        "from pyspark.ml.feature import (OneHotEncoder,StringIndexer)"
      ]
    },
    {
      "cell_type": "code",
      "execution_count": 24,
      "metadata": {
        "id": "AJp9hQ-Y7AqY"
      },
      "outputs": [],
      "source": [
        "string_indexer = [StringIndexer(inputCol = x, outputCol= x+ \"_StringIndexer\", handleInvalid= \"skip\") for x in catCols]"
      ]
    },
    {
      "cell_type": "code",
      "execution_count": 25,
      "metadata": {
        "colab": {
          "base_uri": "https://localhost:8080/"
        },
        "id": "utfui3RL76MY",
        "outputId": "dee05f67-1ea6-42ee-904d-d074504b6142"
      },
      "outputs": [
        {
          "output_type": "execute_result",
          "data": {
            "text/plain": [
              "[StringIndexer_d1c96cce86d8]"
            ]
          },
          "metadata": {},
          "execution_count": 25
        }
      ],
      "source": [
        "string_indexer  #Giving a single stringindexer as output as because there is only one categorial attribute named \"type\"."
      ]
    },
    {
      "cell_type": "code",
      "execution_count": 26,
      "metadata": {
        "id": "uH63dxax7_Eo"
      },
      "outputs": [],
      "source": [
        "one_hot_encoder = [OneHotEncoder(inputCols=[f\"{x}_StringIndexer\" for x in catCols], outputCols=[f\"{x}_OneHotEncoder\" for x in catCols])]"
      ]
    },
    {
      "cell_type": "code",
      "execution_count": 27,
      "metadata": {
        "colab": {
          "base_uri": "https://localhost:8080/"
        },
        "id": "OJSBFusN85Gv",
        "outputId": "0eff8b9c-f2d0-483d-8b3a-a677a73d87eb"
      },
      "outputs": [
        {
          "output_type": "execute_result",
          "data": {
            "text/plain": [
              "[OneHotEncoder_c8cae45a484b]"
            ]
          },
          "metadata": {},
          "execution_count": 27
        }
      ],
      "source": [
        "one_hot_encoder #Giving a single OneHotEncoder as output as because there is only one categorial attribute named \"type\"."
      ]
    },
    {
      "cell_type": "markdown",
      "metadata": {
        "id": "jIv6BOGn_Tn7"
      },
      "source": [
        "**Vector Assembler** - combines the values of input columns into a single vector"
      ]
    },
    {
      "cell_type": "code",
      "execution_count": 28,
      "metadata": {
        "id": "254FymnrBSho"
      },
      "outputs": [],
      "source": [
        "from pyspark.ml.feature import VectorAssembler"
      ]
    },
    {
      "cell_type": "code",
      "execution_count": 29,
      "metadata": {
        "id": "RQzZVAOV9GTT"
      },
      "outputs": [],
      "source": [
        "assemblerInput = [x for x in numCols]  # not doing any chnage for numerical columns as there are already in the same range\n",
        "assemblerInput += [f\"{x}_OneHotEncoder\" for x in catCols]"
      ]
    },
    {
      "cell_type": "code",
      "execution_count": 30,
      "metadata": {
        "colab": {
          "base_uri": "https://localhost:8080/"
        },
        "id": "XAWrTDwRAWCG",
        "outputId": "c30ae3fa-3737-4332-ef9b-d9b7a274d56f"
      },
      "outputs": [
        {
          "output_type": "execute_result",
          "data": {
            "text/plain": [
              "['amount', 'oldbalanceOrg', 'newbalanceOrig', 'type_OneHotEncoder']"
            ]
          },
          "metadata": {},
          "execution_count": 30
        }
      ],
      "source": [
        "assemblerInput #output given for all required columns into one "
      ]
    },
    {
      "cell_type": "code",
      "execution_count": 31,
      "metadata": {
        "id": "gPaEwFBJAZMy"
      },
      "outputs": [],
      "source": [
        "vector_assembler = VectorAssembler(inputCols= assemblerInput, outputCol = \"VectorAssembler_features\") #input features into a vector type"
      ]
    },
    {
      "cell_type": "code",
      "execution_count": 32,
      "metadata": {
        "id": "Uc0Qfk_cBOCh"
      },
      "outputs": [],
      "source": [
        "stages = []        #inorder to feed the pipeline that we will create we have build the stages to feed into the pipeline\n",
        "stages += string_indexer\n",
        "stages += one_hot_encoder\n",
        "stages += [vector_assembler]"
      ]
    },
    {
      "cell_type": "code",
      "execution_count": 33,
      "metadata": {
        "colab": {
          "base_uri": "https://localhost:8080/"
        },
        "id": "ewdE48ASEWYc",
        "outputId": "937a0286-0d2c-4867-e9cf-3ed127326fa0"
      },
      "outputs": [
        {
          "output_type": "execute_result",
          "data": {
            "text/plain": [
              "[StringIndexer_d1c96cce86d8,\n",
              " OneHotEncoder_c8cae45a484b,\n",
              " VectorAssembler_676d9dab00dc]"
            ]
          },
          "metadata": {},
          "execution_count": 33
        }
      ],
      "source": [
        "stages #three stages are shown"
      ]
    },
    {
      "cell_type": "markdown",
      "metadata": {
        "id": "TyG15qpsGtYv"
      },
      "source": [
        "*   time given to see the time taken by the entire cell to execute.\n",
        "*   set the stages into the pipeline\n",
        "*   trained our model by fitting the prepared train data\n",
        "*   based on the training data we transformed our test data to carry out further processes\n",
        "\n"
      ]
    },
    {
      "cell_type": "code",
      "execution_count": 34,
      "metadata": {
        "colab": {
          "base_uri": "https://localhost:8080/"
        },
        "id": "V_XjaaJGGAhg",
        "outputId": "a80bfca5-f9dc-4855-d391-58740bd44bc8"
      },
      "outputs": [
        {
          "output_type": "stream",
          "name": "stdout",
          "text": [
            "CPU times: user 184 ms, sys: 30.5 ms, total: 214 ms\n",
            "Wall time: 25.4 s\n"
          ]
        }
      ],
      "source": [
        "%%time\n",
        "from pyspark.ml import Pipeline  \n",
        "\n",
        "pipeline = Pipeline().setStages(stages)\n",
        "model = pipeline.fit(train)  \n",
        "\n",
        "pp_df = model.transform(test) \n"
      ]
    },
    {
      "cell_type": "code",
      "execution_count": 35,
      "metadata": {
        "colab": {
          "base_uri": "https://localhost:8080/"
        },
        "id": "GiqVxk_pJ1W5",
        "outputId": "fe73a03e-80a3-40aa-8161-cb39ce85777f"
      },
      "outputs": [
        {
          "output_type": "stream",
          "name": "stdout",
          "text": [
            "+-------+------+-------------+--------------+--------------------------------------------------+-------+\n",
            "|type   |amount|oldbalanceOrg|newbalanceOrig|VectorAssembler_features                          |isFraud|\n",
            "+-------+------+-------------+--------------+--------------------------------------------------+-------+\n",
            "|CASH_IN|4.58  |94241.0      |94245.58      |[4.58,94241.0,94245.58,0.0,0.0,1.0,0.0]           |0      |\n",
            "|CASH_IN|5.66  |5061561.06   |5061566.72    |[5.66,5061561.06,5061566.72,0.0,0.0,1.0,0.0]      |0      |\n",
            "|CASH_IN|6.5   |1696433.45   |1696439.95    |[6.5,1696433.45,1696439.95,0.0,0.0,1.0,0.0]       |0      |\n",
            "|CASH_IN|6.76  |11322.0      |11328.76      |[6.76,11322.0,11328.76,0.0,0.0,1.0,0.0]           |0      |\n",
            "|CASH_IN|9.02  |2416260.59   |2416269.61    |[9.02,2416260.59,2416269.61,0.0,0.0,1.0,0.0]      |0      |\n",
            "|CASH_IN|9.04  |99971.0      |99980.04      |[9.04,99971.0,99980.04,0.0,0.0,1.0,0.0]           |0      |\n",
            "|CASH_IN|9.22  |7730148.9    |7730158.12    |[9.22,7730148.9,7730158.12,0.0,0.0,1.0,0.0]       |0      |\n",
            "|CASH_IN|13.2  |106204.0     |106217.2      |[13.2,106204.0,106217.2,0.0,0.0,1.0,0.0]          |0      |\n",
            "|CASH_IN|14.36 |613030.46    |613044.82     |[14.36,613030.46,613044.82,0.0,0.0,1.0,0.0]       |0      |\n",
            "|CASH_IN|14.54 |3347286.5    |3347301.03    |[14.54,3347286.5,3347301.03,0.0,0.0,1.0,0.0]      |0      |\n",
            "|CASH_IN|15.52 |4368030.06   |4368045.59    |[15.52,4368030.06,4368045.59,0.0,0.0,1.0,0.0]     |0      |\n",
            "|CASH_IN|17.33 |8964056.72   |8964074.05    |[17.33,8964056.72,8964074.05,0.0,0.0,1.0,0.0]     |0      |\n",
            "|CASH_IN|17.53 |1111294.85   |1111312.37    |[17.53,1111294.85,1111312.37,0.0,0.0,1.0,0.0]     |0      |\n",
            "|CASH_IN|18.53 |951352.78    |951371.31     |[18.53,951352.78,951371.31,0.0,0.0,1.0,0.0]       |0      |\n",
            "|CASH_IN|21.15 |2729078.29   |2729099.44    |[21.15,2729078.29,2729099.44,0.0,0.0,1.0,0.0]     |0      |\n",
            "|CASH_IN|22.31 |0.0          |22.31         |(7,[0,2,5],[22.31,22.31,1.0])                     |0      |\n",
            "|CASH_IN|22.67 |405940.0     |405962.67     |[22.67,405940.0,405962.67,0.0,0.0,1.0,0.0]        |0      |\n",
            "|CASH_IN|24.2  |1.803342949E7|1.803345368E7 |[24.2,1.803342949E7,1.803345368E7,0.0,0.0,1.0,0.0]|0      |\n",
            "|CASH_IN|26.67 |2117097.76   |2117124.43    |[26.67,2117097.76,2117124.43,0.0,0.0,1.0,0.0]     |0      |\n",
            "|CASH_IN|26.78 |51635.0      |51661.78      |[26.78,51635.0,51661.78,0.0,0.0,1.0,0.0]          |0      |\n",
            "+-------+------+-------------+--------------+--------------------------------------------------+-------+\n",
            "only showing top 20 rows\n",
            "\n"
          ]
        }
      ],
      "source": [
        "pp_df.select(\"type\",\"amount\",\"oldbalanceOrg\",\"newbalanceOrig\",\"VectorAssembler_features\", \"isFraud\").show(truncate = False)"
      ]
    },
    {
      "cell_type": "markdown",
      "metadata": {
        "id": "3iKr_9l9OVly"
      },
      "source": [
        "**Logistic regression** - Machine learning Model Building"
      ]
    },
    {
      "cell_type": "code",
      "execution_count": 36,
      "metadata": {
        "id": "JmfHcRKKKSKR"
      },
      "outputs": [],
      "source": [
        "from pyspark.ml.classification import LogisticRegression"
      ]
    },
    {
      "cell_type": "code",
      "execution_count": 37,
      "metadata": {
        "id": "thEkxAppOiR0"
      },
      "outputs": [],
      "source": [
        "data = pp_df.select(F.col(\"VectorAssembler_features\").alias (\"features\"), F.col(\"isFraud\").alias(\"label\"))"
      ]
    },
    {
      "cell_type": "code",
      "execution_count": 38,
      "metadata": {
        "colab": {
          "base_uri": "https://localhost:8080/"
        },
        "id": "9UHDI5oETP3m",
        "outputId": "7bc4f112-7a71-4bb4-d92d-e29cd981c2e7"
      },
      "outputs": [
        {
          "output_type": "stream",
          "name": "stdout",
          "text": [
            "+--------------------------------------------+-----+\n",
            "|features                                    |label|\n",
            "+--------------------------------------------+-----+\n",
            "|[4.58,94241.0,94245.58,0.0,0.0,1.0,0.0]     |0    |\n",
            "|[5.66,5061561.06,5061566.72,0.0,0.0,1.0,0.0]|0    |\n",
            "|[6.5,1696433.45,1696439.95,0.0,0.0,1.0,0.0] |0    |\n",
            "|[6.76,11322.0,11328.76,0.0,0.0,1.0,0.0]     |0    |\n",
            "|[9.02,2416260.59,2416269.61,0.0,0.0,1.0,0.0]|0    |\n",
            "+--------------------------------------------+-----+\n",
            "only showing top 5 rows\n",
            "\n"
          ]
        }
      ],
      "source": [
        "data.show(5,truncate = False)"
      ]
    },
    {
      "cell_type": "code",
      "execution_count": 39,
      "metadata": {
        "colab": {
          "base_uri": "https://localhost:8080/"
        },
        "id": "YByuQEEqVAT2",
        "outputId": "58f83e96-5c70-4557-938b-b063caf3d1c5"
      },
      "outputs": [
        {
          "output_type": "stream",
          "name": "stdout",
          "text": [
            "CPU times: user 510 ms, sys: 55.4 ms, total: 566 ms\n",
            "Wall time: 1min 28s\n"
          ]
        }
      ],
      "source": [
        "%%time\n",
        "model = LogisticRegression().fit(data)"
      ]
    },
    {
      "cell_type": "code",
      "execution_count": 40,
      "metadata": {
        "colab": {
          "base_uri": "https://localhost:8080/"
        },
        "id": "ZYT-iSeGVHxv",
        "outputId": "2149f2dd-85ec-4431-a75b-3e262288ca7f"
      },
      "outputs": [
        {
          "output_type": "execute_result",
          "data": {
            "text/plain": [
              "0.9918411620092897"
            ]
          },
          "metadata": {},
          "execution_count": 40
        }
      ],
      "source": [
        "model.summary.areaUnderROC #area under curve"
      ]
    },
    {
      "cell_type": "code",
      "execution_count": 41,
      "metadata": {
        "colab": {
          "base_uri": "https://localhost:8080/"
        },
        "id": "fkFOXkmtVU00",
        "outputId": "1f896b4d-83fe-4864-c145-999cef836a8d"
      },
      "outputs": [
        {
          "output_type": "stream",
          "name": "stdout",
          "text": [
            "+-------------------+-------------------+\n",
            "|             recall|          precision|\n",
            "+-------------------+-------------------+\n",
            "|                0.0| 0.9195046439628483|\n",
            "|0.35441527446300713| 0.9195046439628483|\n",
            "|  0.469769291964996| 0.6683644595359366|\n",
            "| 0.5338106603023071| 0.5231968810916179|\n",
            "| 0.5731901352426412|0.42848647041332144|\n",
            "| 0.6089896579156723|0.36794039894256186|\n",
            "| 0.6340493237867939| 0.3214357733413995|\n",
            "| 0.6634844868735084| 0.2897342365815529|\n",
            "| 0.6897374701670644| 0.2645308924485126|\n",
            "| 0.7108194112967383|0.24303005575955391|\n",
            "| 0.7287191726332538|0.22475769844190896|\n",
            "| 0.7458233890214797|0.20952061682869594|\n",
            "| 0.7613365155131265| 0.1963681132656202|\n",
            "| 0.7724741447891806|0.18416311047889997|\n",
            "| 0.7852028639618138| 0.1740280349113991|\n",
            "| 0.7975338106603023|  0.165142904208879|\n",
            "| 0.8003182179793158|0.15548686244204019|\n",
            "| 0.8027048528241846|0.14689183287232493|\n",
            "| 0.8042959427207638| 0.1391029168959824|\n",
            "| 0.8066825775656324|0.13225511934263728|\n",
            "+-------------------+-------------------+\n",
            "only showing top 20 rows\n",
            "\n"
          ]
        },
        {
          "output_type": "stream",
          "name": "stderr",
          "text": [
            "/usr/local/lib/python3.7/dist-packages/pyspark/sql/context.py:127: FutureWarning: Deprecated in 3.0.0. Use SparkSession.builder.getOrCreate() instead.\n",
            "  FutureWarning\n"
          ]
        }
      ],
      "source": [
        "model.summary.pr.show() #showig precision and recall"
      ]
    },
    {
      "cell_type": "markdown",
      "metadata": {
        "id": "1oWxBtDjYJbj"
      },
      "source": [
        "**Another way of doing the same project without using pipeline**"
      ]
    },
    {
      "cell_type": "code",
      "execution_count": 42,
      "metadata": {
        "id": "BfLvJtD7WhE1"
      },
      "outputs": [],
      "source": [
        "from pyspark.ml.feature import StringIndexer"
      ]
    },
    {
      "cell_type": "code",
      "execution_count": 43,
      "metadata": {
        "id": "mZiW9O0sX6Qd"
      },
      "outputs": [],
      "source": [
        "type_indexer = StringIndexer(inputCol=\"type\", outputCol=\"type_indexer\").fit(df)\n",
        "df = type_indexer.transform(df)"
      ]
    },
    {
      "cell_type": "code",
      "execution_count": 44,
      "metadata": {
        "colab": {
          "base_uri": "https://localhost:8080/"
        },
        "id": "Gt01_AiLYlXr",
        "outputId": "0d3a3181-2d75-4064-bd34-3cf369ae4ddb"
      },
      "outputs": [
        {
          "output_type": "stream",
          "name": "stdout",
          "text": [
            "+--------+-------+-------------+--------------+-------+------------+\n",
            "|type    |amount |oldbalanceOrg|newbalanceOrig|isFraud|type_indexer|\n",
            "+--------+-------+-------------+--------------+-------+------------+\n",
            "|PAYMENT |9839.64|170136.0     |160296.36     |0      |1.0         |\n",
            "|PAYMENT |1864.28|21249.0      |19384.72      |0      |1.0         |\n",
            "|TRANSFER|181.0  |181.0        |0.0           |1      |3.0         |\n",
            "+--------+-------+-------------+--------------+-------+------------+\n",
            "only showing top 3 rows\n",
            "\n"
          ]
        }
      ],
      "source": [
        "df.show(3,False)"
      ]
    },
    {
      "cell_type": "code",
      "execution_count": 45,
      "metadata": {
        "id": "hAyNCEiqYqyy"
      },
      "outputs": [],
      "source": [
        "type_encoder = OneHotEncoder(inputCol=\"type_indexer\", outputCol=\"type_Vector\").fit(df)\n",
        "df = type_encoder.transform(df)"
      ]
    },
    {
      "cell_type": "code",
      "execution_count": 46,
      "metadata": {
        "colab": {
          "base_uri": "https://localhost:8080/"
        },
        "id": "lKyCMRBCY484",
        "outputId": "1d3b5dfb-2214-42ec-f933-beb6ab2b28cb"
      },
      "outputs": [
        {
          "output_type": "stream",
          "name": "stdout",
          "text": [
            "+--------+-------+-------------+--------------+-------+------------+-------------+\n",
            "|type    |amount |oldbalanceOrg|newbalanceOrig|isFraud|type_indexer|type_Vector  |\n",
            "+--------+-------+-------------+--------------+-------+------------+-------------+\n",
            "|PAYMENT |9839.64|170136.0     |160296.36     |0      |1.0         |(4,[1],[1.0])|\n",
            "|PAYMENT |1864.28|21249.0      |19384.72      |0      |1.0         |(4,[1],[1.0])|\n",
            "|TRANSFER|181.0  |181.0        |0.0           |1      |3.0         |(4,[3],[1.0])|\n",
            "+--------+-------+-------------+--------------+-------+------------+-------------+\n",
            "only showing top 3 rows\n",
            "\n"
          ]
        }
      ],
      "source": [
        "df.show(3,False)"
      ]
    },
    {
      "cell_type": "code",
      "execution_count": 47,
      "metadata": {
        "colab": {
          "base_uri": "https://localhost:8080/"
        },
        "id": "YD67D5nTZdSI",
        "outputId": "4f833d76-3a2f-47c4-d85a-bc7d993b0c55"
      },
      "outputs": [
        {
          "output_type": "stream",
          "name": "stdout",
          "text": [
            "+--------+-------+\n",
            "|type    |count  |\n",
            "+--------+-------+\n",
            "|CASH_OUT|2237500|\n",
            "|PAYMENT |2151495|\n",
            "|CASH_IN |1399284|\n",
            "|TRANSFER|532909 |\n",
            "|DEBIT   |41432  |\n",
            "+--------+-------+\n",
            "\n"
          ]
        }
      ],
      "source": [
        "df.groupBy('type').count().orderBy('count',ascending=False).show(5,False)"
      ]
    },
    {
      "cell_type": "code",
      "execution_count": 48,
      "metadata": {
        "colab": {
          "base_uri": "https://localhost:8080/"
        },
        "id": "ONngi6IxZkcP",
        "outputId": "7e05aea1-8329-44df-b882-a05f37da6ce8"
      },
      "outputs": [
        {
          "output_type": "stream",
          "name": "stdout",
          "text": [
            "+------------+-------+\n",
            "|type_indexer|count  |\n",
            "+------------+-------+\n",
            "|0.0         |2237500|\n",
            "|1.0         |2151495|\n",
            "|2.0         |1399284|\n",
            "|3.0         |532909 |\n",
            "|4.0         |41432  |\n",
            "+------------+-------+\n",
            "\n"
          ]
        }
      ],
      "source": [
        "df.groupBy('type_indexer').count().orderBy('count',ascending=False).show(5,False)"
      ]
    },
    {
      "cell_type": "code",
      "execution_count": 49,
      "metadata": {
        "id": "seSBA6G5Zt9k"
      },
      "outputs": [],
      "source": [
        "df_assembler = VectorAssembler(inputCols=['amount', 'oldbalanceOrg', 'newbalanceOrig', 'type_Vector'], outputCol=\"features\")\n",
        "df = df_assembler.transform(df)"
      ]
    },
    {
      "cell_type": "code",
      "execution_count": 50,
      "metadata": {
        "colab": {
          "base_uri": "https://localhost:8080/"
        },
        "id": "GZxb0qG2aXoT",
        "outputId": "ac9234d8-599d-442f-c14a-21d1d5910b2d"
      },
      "outputs": [
        {
          "output_type": "stream",
          "name": "stdout",
          "text": [
            "+---------------------------------------------+-------+\n",
            "|features                                     |isFraud|\n",
            "+---------------------------------------------+-------+\n",
            "|[9839.64,170136.0,160296.36,0.0,1.0,0.0,0.0] |0      |\n",
            "|[1864.28,21249.0,19384.72,0.0,1.0,0.0,0.0]   |0      |\n",
            "|(7,[0,1,6],[181.0,181.0,1.0])                |1      |\n",
            "|(7,[0,1,3],[181.0,181.0,1.0])                |1      |\n",
            "|[11668.14,41554.0,29885.86,0.0,1.0,0.0,0.0]  |0      |\n",
            "|[7817.71,53860.0,46042.29,0.0,1.0,0.0,0.0]   |0      |\n",
            "|[7107.77,183195.0,176087.23,0.0,1.0,0.0,0.0] |0      |\n",
            "|[7861.64,176087.23,168225.59,0.0,1.0,0.0,0.0]|0      |\n",
            "|(7,[0,1,4],[4024.36,2671.0,1.0])             |0      |\n",
            "|(7,[0,1,2],[5337.77,41720.0,36382.23])       |0      |\n",
            "+---------------------------------------------+-------+\n",
            "only showing top 10 rows\n",
            "\n"
          ]
        }
      ],
      "source": [
        "df.select(['features','isFraud']).show(10,False)"
      ]
    },
    {
      "cell_type": "code",
      "execution_count": 51,
      "metadata": {
        "colab": {
          "base_uri": "https://localhost:8080/"
        },
        "id": "IBIWcgp-al0n",
        "outputId": "26491140-e432-4876-c854-9c7cc1616cdc"
      },
      "outputs": [
        {
          "output_type": "stream",
          "name": "stdout",
          "text": [
            "root\n",
            " |-- type: string (nullable = true)\n",
            " |-- amount: double (nullable = true)\n",
            " |-- oldbalanceOrg: double (nullable = true)\n",
            " |-- newbalanceOrig: double (nullable = true)\n",
            " |-- isFraud: integer (nullable = true)\n",
            " |-- type_indexer: double (nullable = false)\n",
            " |-- type_Vector: vector (nullable = true)\n",
            " |-- features: vector (nullable = true)\n",
            "\n"
          ]
        }
      ],
      "source": [
        "df.printSchema()"
      ]
    },
    {
      "cell_type": "code",
      "execution_count": 52,
      "metadata": {
        "id": "HAIrXcTzapjP"
      },
      "outputs": [],
      "source": [
        "model_df=df.select(['features','isFraud'])"
      ]
    },
    {
      "cell_type": "code",
      "execution_count": 53,
      "metadata": {
        "id": "Rli4m0Ceav-G"
      },
      "outputs": [],
      "source": [
        "from pyspark.ml.classification import LogisticRegression"
      ]
    },
    {
      "cell_type": "code",
      "execution_count": 54,
      "metadata": {
        "id": "fi54R-2-a3Nj"
      },
      "outputs": [],
      "source": [
        "training_df,test_df=model_df.randomSplit([0.70,0.30],seed=42)"
      ]
    },
    {
      "cell_type": "code",
      "execution_count": 55,
      "metadata": {
        "colab": {
          "base_uri": "https://localhost:8080/"
        },
        "id": "30EL0mVOa9wJ",
        "outputId": "3c702cb9-e7e8-4383-e120-0d92ca3bd6e9"
      },
      "outputs": [
        {
          "output_type": "execute_result",
          "data": {
            "text/plain": [
              "4454014"
            ]
          },
          "metadata": {},
          "execution_count": 55
        }
      ],
      "source": [
        "training_df.count()"
      ]
    },
    {
      "cell_type": "code",
      "execution_count": 56,
      "metadata": {
        "colab": {
          "base_uri": "https://localhost:8080/"
        },
        "id": "cesLkMGnbCL9",
        "outputId": "103ab68e-d67d-4cde-8333-122033fe391e"
      },
      "outputs": [
        {
          "output_type": "stream",
          "name": "stdout",
          "text": [
            "+-------+-------+\n",
            "|isFraud|  count|\n",
            "+-------+-------+\n",
            "|      1|   5702|\n",
            "|      0|4448312|\n",
            "+-------+-------+\n",
            "\n"
          ]
        }
      ],
      "source": [
        "training_df.groupBy('isFraud').count().show()"
      ]
    },
    {
      "cell_type": "code",
      "execution_count": 57,
      "metadata": {
        "colab": {
          "base_uri": "https://localhost:8080/"
        },
        "id": "CsOLHVIKbQvx",
        "outputId": "ed41444b-2e2e-424d-c5ff-6c0631b6e050"
      },
      "outputs": [
        {
          "output_type": "execute_result",
          "data": {
            "text/plain": [
              "1908606"
            ]
          },
          "metadata": {},
          "execution_count": 57
        }
      ],
      "source": [
        "test_df.count()"
      ]
    },
    {
      "cell_type": "code",
      "execution_count": 58,
      "metadata": {
        "colab": {
          "base_uri": "https://localhost:8080/"
        },
        "id": "sfrRM_jJbRZc",
        "outputId": "ea823e54-e845-4dd8-8ac8-5be21e3fd4ff"
      },
      "outputs": [
        {
          "output_type": "stream",
          "name": "stdout",
          "text": [
            "+-------+-------+\n",
            "|isFraud|  count|\n",
            "+-------+-------+\n",
            "|      1|   2511|\n",
            "|      0|1906095|\n",
            "+-------+-------+\n",
            "\n"
          ]
        }
      ],
      "source": [
        "test_df.groupBy('isFraud').count().show()"
      ]
    },
    {
      "cell_type": "code",
      "execution_count": 59,
      "metadata": {
        "id": "aFXQdubHbWH2"
      },
      "outputs": [],
      "source": [
        "log_reg=LogisticRegression(labelCol='isFraud').fit(training_df)"
      ]
    },
    {
      "cell_type": "code",
      "execution_count": 60,
      "metadata": {
        "colab": {
          "base_uri": "https://localhost:8080/"
        },
        "id": "QfDzEvKubawi",
        "outputId": "b1df897e-b9b9-4686-d601-7202b6f52616"
      },
      "outputs": [
        {
          "output_type": "stream",
          "name": "stderr",
          "text": [
            "/usr/local/lib/python3.7/dist-packages/pyspark/sql/context.py:127: FutureWarning: Deprecated in 3.0.0. Use SparkSession.builder.getOrCreate() instead.\n",
            "  FutureWarning\n"
          ]
        }
      ],
      "source": [
        "train_results=log_reg.evaluate(training_df).predictions"
      ]
    },
    {
      "cell_type": "code",
      "execution_count": 61,
      "metadata": {
        "colab": {
          "base_uri": "https://localhost:8080/"
        },
        "id": "YJdgof8tbeDe",
        "outputId": "47b77776-0e62-4aa5-8b5b-4c243e678652"
      },
      "outputs": [
        {
          "output_type": "stream",
          "name": "stdout",
          "text": [
            "+-------+----------+----------------------------------------+\n",
            "|isFraud|prediction|probability                             |\n",
            "+-------+----------+----------------------------------------+\n",
            "|1      |1.0       |[0.4829243792192139,0.5170756207807861] |\n",
            "|1      |1.0       |[0.459100466452281,0.540899533547719]   |\n",
            "|1      |1.0       |[0.44706396477087673,0.5529360352291233]|\n",
            "|1      |1.0       |[0.4391236776511196,0.5608763223488804] |\n",
            "|1      |1.0       |[0.42824591076284396,0.571754089237156] |\n",
            "|1      |1.0       |[0.40347933763355276,0.5965206623664472]|\n",
            "|1      |1.0       |[0.3943873720634842,0.6056126279365158] |\n",
            "|1      |1.0       |[0.38120369507917756,0.6187963049208225]|\n",
            "|1      |1.0       |[0.3556833250833072,0.6443166749166929] |\n",
            "|1      |1.0       |[0.3294937904532103,0.6705062095467897] |\n",
            "+-------+----------+----------------------------------------+\n",
            "only showing top 10 rows\n",
            "\n"
          ]
        }
      ],
      "source": [
        "train_results.filter(train_results['isFraud']==1).filter(train_results['prediction']==1).select(['isFraud','prediction','probability']).show(10,False)"
      ]
    },
    {
      "cell_type": "markdown",
      "metadata": {
        "id": "OVVXkYc3fnzn"
      },
      "source": [
        "Probability at 0 index is for 0 class and probabilty as 1 index is for 1 class"
      ]
    },
    {
      "cell_type": "code",
      "execution_count": 62,
      "metadata": {
        "id": "70uGA7ONfTvq"
      },
      "outputs": [],
      "source": [
        "correct_preds=train_results.filter(train_results['isFraud']==1).filter(train_results['prediction']==1).count()"
      ]
    },
    {
      "cell_type": "code",
      "execution_count": 63,
      "metadata": {
        "colab": {
          "base_uri": "https://localhost:8080/"
        },
        "id": "rmnJcVMCft74",
        "outputId": "390c0017-2496-48ec-9fea-8ea58c38c66c"
      },
      "outputs": [
        {
          "output_type": "execute_result",
          "data": {
            "text/plain": [
              "5702"
            ]
          },
          "metadata": {},
          "execution_count": 63
        }
      ],
      "source": [
        "training_df.filter(training_df['isFraud']==1).count()"
      ]
    },
    {
      "cell_type": "code",
      "execution_count": 64,
      "metadata": {
        "colab": {
          "base_uri": "https://localhost:8080/"
        },
        "id": "cOekTQvxfzBe",
        "outputId": "55e4b87a-2fce-45ab-a538-672f33f36cbe"
      },
      "outputs": [
        {
          "output_type": "execute_result",
          "data": {
            "text/plain": [
              "0.4047702560505086"
            ]
          },
          "metadata": {},
          "execution_count": 64
        }
      ],
      "source": [
        "#accuracy on training dataset \n",
        "float(correct_preds)/(training_df.filter(training_df['isFraud']==1).count())"
      ]
    },
    {
      "cell_type": "code",
      "execution_count": 65,
      "metadata": {
        "colab": {
          "base_uri": "https://localhost:8080/"
        },
        "id": "YQTbnDodf4dB",
        "outputId": "ea1bdbd0-c09e-4152-f37b-9d8788232a8a"
      },
      "outputs": [
        {
          "output_type": "stream",
          "name": "stderr",
          "text": [
            "/usr/local/lib/python3.7/dist-packages/pyspark/sql/context.py:127: FutureWarning: Deprecated in 3.0.0. Use SparkSession.builder.getOrCreate() instead.\n",
            "  FutureWarning\n"
          ]
        }
      ],
      "source": [
        "#Test/validation result\n",
        "results=log_reg.evaluate(test_df).predictions"
      ]
    },
    {
      "cell_type": "code",
      "execution_count": 66,
      "metadata": {
        "colab": {
          "base_uri": "https://localhost:8080/"
        },
        "id": "FgE1D7MeggrU",
        "outputId": "1da022b2-8347-4fc0-af1f-31b4abfe1848"
      },
      "outputs": [
        {
          "output_type": "stream",
          "name": "stdout",
          "text": [
            "+-------+----------+\n",
            "|isFraud|prediction|\n",
            "+-------+----------+\n",
            "|0      |0.0       |\n",
            "|0      |0.0       |\n",
            "|0      |0.0       |\n",
            "|0      |0.0       |\n",
            "|0      |0.0       |\n",
            "|0      |0.0       |\n",
            "|0      |0.0       |\n",
            "|0      |0.0       |\n",
            "|0      |0.0       |\n",
            "|0      |0.0       |\n",
            "+-------+----------+\n",
            "only showing top 10 rows\n",
            "\n"
          ]
        }
      ],
      "source": [
        "results.select(['isFraud','prediction']).show(10,False)"
      ]
    },
    {
      "cell_type": "code",
      "execution_count": 67,
      "metadata": {
        "colab": {
          "base_uri": "https://localhost:8080/"
        },
        "id": "EZcFKA7_grYZ",
        "outputId": "5bb06592-58f5-426a-9432-e8012788a439"
      },
      "outputs": [
        {
          "output_type": "stream",
          "name": "stdout",
          "text": [
            "root\n",
            " |-- features: vector (nullable = true)\n",
            " |-- isFraud: integer (nullable = true)\n",
            " |-- rawPrediction: vector (nullable = true)\n",
            " |-- probability: vector (nullable = true)\n",
            " |-- prediction: double (nullable = false)\n",
            "\n"
          ]
        }
      ],
      "source": [
        "results.printSchema()"
      ]
    },
    {
      "cell_type": "code",
      "execution_count": 68,
      "metadata": {
        "id": "1FCCIw2ngyOo"
      },
      "outputs": [],
      "source": [
        "from pyspark.ml.evaluation import BinaryClassificationEvaluator"
      ]
    },
    {
      "cell_type": "code",
      "execution_count": 69,
      "metadata": {
        "id": "1p60saLtg0ex"
      },
      "outputs": [],
      "source": [
        "#confusion matrix\n",
        "true_postives = results[(results.isFraud == 1) & (results.prediction == 1)].count()\n",
        "true_negatives = results[(results.isFraud == 0) & (results.prediction == 0)].count()\n",
        "false_positives = results[(results.isFraud == 0) & (results.prediction == 1)].count()\n",
        "false_negatives = results[(results.isFraud == 1) & (results.prediction == 0)].count()"
      ]
    },
    {
      "cell_type": "code",
      "execution_count": 70,
      "metadata": {
        "colab": {
          "base_uri": "https://localhost:8080/"
        },
        "id": "mnduaY_Pg9DM",
        "outputId": "d7d5b093-5fd8-4736-de5d-512daf18debb"
      },
      "outputs": [
        {
          "output_type": "stream",
          "name": "stdout",
          "text": [
            "993\n",
            "1905928\n",
            "167\n",
            "1518\n",
            "1908606\n",
            "1908606\n"
          ]
        }
      ],
      "source": [
        "print (true_postives)\n",
        "print (true_negatives)\n",
        "print (false_positives)\n",
        "print (false_negatives)\n",
        "print(true_postives+true_negatives+false_positives+false_negatives)\n",
        "print (results.count())"
      ]
    },
    {
      "cell_type": "code",
      "execution_count": 71,
      "metadata": {
        "colab": {
          "base_uri": "https://localhost:8080/"
        },
        "id": "0TMPIJwBg_fQ",
        "outputId": "da6dacdb-902a-447a-d6d9-2244452fba77"
      },
      "outputs": [
        {
          "output_type": "stream",
          "name": "stdout",
          "text": [
            "0.3954599761051374\n"
          ]
        }
      ],
      "source": [
        "recall = float(true_postives)/(true_postives + false_negatives)\n",
        "print(recall)"
      ]
    },
    {
      "cell_type": "code",
      "execution_count": 72,
      "metadata": {
        "colab": {
          "base_uri": "https://localhost:8080/"
        },
        "id": "mAJW9ZdDhBqw",
        "outputId": "f0c18eb2-cb2f-4e2f-9152-2dc550fb1a00"
      },
      "outputs": [
        {
          "output_type": "stream",
          "name": "stdout",
          "text": [
            "0.8560344827586207\n"
          ]
        }
      ],
      "source": [
        "precision = float(true_postives) / (true_postives + false_positives)\n",
        "print(precision)"
      ]
    },
    {
      "cell_type": "code",
      "execution_count": 73,
      "metadata": {
        "colab": {
          "base_uri": "https://localhost:8080/"
        },
        "id": "4xyB9ORchGZs",
        "outputId": "94b72990-d97a-4fbf-bafb-c02d6096a359"
      },
      "outputs": [
        {
          "output_type": "stream",
          "name": "stdout",
          "text": [
            "0.9991171567101853\n"
          ]
        }
      ],
      "source": [
        "accuracy=float((true_postives+true_negatives) /(results.count()))\n",
        "print(accuracy)"
      ]
    },
    {
      "cell_type": "markdown",
      "source": [
        "**Random Forest Classifier**"
      ],
      "metadata": {
        "id": "-AasJ0EqlKnx"
      }
    },
    {
      "cell_type": "code",
      "execution_count": 78,
      "metadata": {
        "id": "OMQmgWTOhG1w"
      },
      "outputs": [],
      "source": [
        "from pyspark.ml.classification import RandomForestClassifier"
      ]
    },
    {
      "cell_type": "code",
      "source": [
        "rf_classifier=RandomForestClassifier(labelCol='isFraud',numTrees=50).fit(training_df)"
      ],
      "metadata": {
        "id": "HpkSZ1r1hipw"
      },
      "execution_count": 79,
      "outputs": []
    },
    {
      "cell_type": "code",
      "source": [
        "rf_predictions=rf_classifier.transform(test_df)"
      ],
      "metadata": {
        "id": "H9xocoKtiAzo"
      },
      "execution_count": 80,
      "outputs": []
    },
    {
      "cell_type": "code",
      "source": [
        "rf_predictions.show()"
      ],
      "metadata": {
        "colab": {
          "base_uri": "https://localhost:8080/"
        },
        "id": "MybH9xjwiI1A",
        "outputId": "e88094c3-b8cd-48b6-fcdc-4d399fb88241"
      },
      "execution_count": 81,
      "outputs": [
        {
          "output_type": "stream",
          "name": "stdout",
          "text": [
            "+----------------+-------+--------------------+--------------------+----------+\n",
            "|        features|isFraud|       rawPrediction|         probability|prediction|\n",
            "+----------------+-------+--------------------+--------------------+----------+\n",
            "| (7,[0],[15.46])|      0|[49.9685585924237...|[0.99937117184847...|       0.0|\n",
            "| (7,[0],[26.95])|      0|[49.9685585924237...|[0.99937117184847...|       0.0|\n",
            "| (7,[0],[32.27])|      0|[49.9685585924237...|[0.99937117184847...|       0.0|\n",
            "| (7,[0],[32.58])|      0|[49.9685585924237...|[0.99937117184847...|       0.0|\n",
            "| (7,[0],[53.39])|      0|[49.9685585924237...|[0.99937117184847...|       0.0|\n",
            "| (7,[0],[54.24])|      0|[49.9685585924237...|[0.99937117184847...|       0.0|\n",
            "| (7,[0],[55.78])|      0|[49.9685585924237...|[0.99937117184847...|       0.0|\n",
            "| (7,[0],[85.02])|      0|[49.9685585924237...|[0.99937117184847...|       0.0|\n",
            "| (7,[0],[87.92])|      0|[49.9685585924237...|[0.99937117184847...|       0.0|\n",
            "| (7,[0],[93.59])|      0|[49.9685585924237...|[0.99937117184847...|       0.0|\n",
            "| (7,[0],[94.02])|      0|[49.9685585924237...|[0.99937117184847...|       0.0|\n",
            "|(7,[0],[137.08])|      0|[49.9685585924237...|[0.99937117184847...|       0.0|\n",
            "|(7,[0],[139.31])|      0|[49.9685585924237...|[0.99937117184847...|       0.0|\n",
            "| (7,[0],[139.8])|      0|[49.9685585924237...|[0.99937117184847...|       0.0|\n",
            "| (7,[0],[140.2])|      0|[49.9685585924237...|[0.99937117184847...|       0.0|\n",
            "|(7,[0],[144.45])|      0|[49.9685585924237...|[0.99937117184847...|       0.0|\n",
            "|(7,[0],[147.57])|      0|[49.9685585924237...|[0.99937117184847...|       0.0|\n",
            "|(7,[0],[157.35])|      0|[49.9685585924237...|[0.99937117184847...|       0.0|\n",
            "|(7,[0],[173.58])|      0|[49.9685585924237...|[0.99937117184847...|       0.0|\n",
            "|(7,[0],[179.15])|      0|[49.9685585924237...|[0.99937117184847...|       0.0|\n",
            "+----------------+-------+--------------------+--------------------+----------+\n",
            "only showing top 20 rows\n",
            "\n"
          ]
        }
      ]
    },
    {
      "cell_type": "code",
      "source": [
        "rf_predictions.columns"
      ],
      "metadata": {
        "colab": {
          "base_uri": "https://localhost:8080/"
        },
        "id": "kJLSxDn9ky7L",
        "outputId": "59a98c0a-6687-4c96-b558-3e721bf0f022"
      },
      "execution_count": 84,
      "outputs": [
        {
          "output_type": "execute_result",
          "data": {
            "text/plain": [
              "['features', 'isFraud', 'rawPrediction', 'probability', 'prediction']"
            ]
          },
          "metadata": {},
          "execution_count": 84
        }
      ]
    },
    {
      "cell_type": "code",
      "source": [
        "rf_predictions.groupBy('prediction').count().show()"
      ],
      "metadata": {
        "colab": {
          "base_uri": "https://localhost:8080/"
        },
        "id": "aqghTIsdiO_U",
        "outputId": "bb207f0f-451e-4218-a92b-a93245db5bcb"
      },
      "execution_count": 82,
      "outputs": [
        {
          "output_type": "stream",
          "name": "stdout",
          "text": [
            "+----------+-------+\n",
            "|prediction|  count|\n",
            "+----------+-------+\n",
            "|       0.0|1907897|\n",
            "|       1.0|    709|\n",
            "+----------+-------+\n",
            "\n"
          ]
        }
      ]
    },
    {
      "cell_type": "code",
      "source": [
        "rf_predictions.select(['isFraud','probability','prediction']).show(10,False)"
      ],
      "metadata": {
        "colab": {
          "base_uri": "https://localhost:8080/"
        },
        "id": "TqnfXIBkiSIY",
        "outputId": "5c1ea540-1a14-4cf7-fa59-b51305f8ef9a"
      },
      "execution_count": 85,
      "outputs": [
        {
          "output_type": "stream",
          "name": "stdout",
          "text": [
            "+-------+-----------------------------------------+----------+\n",
            "|isFraud|probability                              |prediction|\n",
            "+-------+-----------------------------------------+----------+\n",
            "|0      |[0.9993711718484746,6.288281515254569E-4]|0.0       |\n",
            "|0      |[0.9993711718484746,6.288281515254569E-4]|0.0       |\n",
            "|0      |[0.9993711718484746,6.288281515254569E-4]|0.0       |\n",
            "|0      |[0.9993711718484746,6.288281515254569E-4]|0.0       |\n",
            "|0      |[0.9993711718484746,6.288281515254569E-4]|0.0       |\n",
            "|0      |[0.9993711718484746,6.288281515254569E-4]|0.0       |\n",
            "|0      |[0.9993711718484746,6.288281515254569E-4]|0.0       |\n",
            "|0      |[0.9993711718484746,6.288281515254569E-4]|0.0       |\n",
            "|0      |[0.9993711718484746,6.288281515254569E-4]|0.0       |\n",
            "|0      |[0.9993711718484746,6.288281515254569E-4]|0.0       |\n",
            "+-------+-----------------------------------------+----------+\n",
            "only showing top 10 rows\n",
            "\n"
          ]
        }
      ]
    },
    {
      "cell_type": "code",
      "source": [
        "from pyspark.ml.evaluation import BinaryClassificationEvaluator"
      ],
      "metadata": {
        "id": "KF1P8ggiiXx7"
      },
      "execution_count": 86,
      "outputs": []
    },
    {
      "cell_type": "code",
      "source": [
        "from pyspark.ml.evaluation import MulticlassClassificationEvaluator"
      ],
      "metadata": {
        "id": "PBxCYJ8Pimh2"
      },
      "execution_count": 87,
      "outputs": []
    },
    {
      "cell_type": "code",
      "source": [
        "rf_accuracy=MulticlassClassificationEvaluator(labelCol='isFraud',metricName='accuracy').evaluate(rf_predictions)"
      ],
      "metadata": {
        "id": "zyBvRSg6ipQT"
      },
      "execution_count": 88,
      "outputs": []
    },
    {
      "cell_type": "code",
      "source": [
        "print('The accuracy of RF on test data is {0:.0%}'.format(rf_accuracy))"
      ],
      "metadata": {
        "colab": {
          "base_uri": "https://localhost:8080/"
        },
        "id": "-q05u4JjirRr",
        "outputId": "18e46cd7-1ee6-4adf-dbbd-f9bdcdae1cce"
      },
      "execution_count": 89,
      "outputs": [
        {
          "output_type": "stream",
          "name": "stdout",
          "text": [
            "The accuracy of RF on test data is 100%\n"
          ]
        }
      ]
    },
    {
      "cell_type": "code",
      "source": [
        "print(rf_accuracy)"
      ],
      "metadata": {
        "colab": {
          "base_uri": "https://localhost:8080/"
        },
        "id": "avyMwtE3iuJH",
        "outputId": "de76a1c4-685a-421b-bd07-be57febcbac9"
      },
      "execution_count": 90,
      "outputs": [
        {
          "output_type": "stream",
          "name": "stdout",
          "text": [
            "0.9990495681141105\n"
          ]
        }
      ]
    },
    {
      "cell_type": "code",
      "source": [
        "rf_precision=MulticlassClassificationEvaluator(labelCol='isFraud',metricName='weightedPrecision').evaluate(rf_predictions)"
      ],
      "metadata": {
        "id": "1upmsQmZiwbL"
      },
      "execution_count": 91,
      "outputs": []
    },
    {
      "cell_type": "code",
      "source": [
        "print('The precision rate on test data is {0:.0%}'.format(rf_precision))"
      ],
      "metadata": {
        "colab": {
          "base_uri": "https://localhost:8080/"
        },
        "id": "RB02OBkni07q",
        "outputId": "629b2dbd-d8a1-4547-af92-934bdc853718"
      },
      "execution_count": 92,
      "outputs": [
        {
          "output_type": "stream",
          "name": "stdout",
          "text": [
            "The precision rate on test data is 100%\n"
          ]
        }
      ]
    },
    {
      "cell_type": "code",
      "source": [
        "rf_precision"
      ],
      "metadata": {
        "colab": {
          "base_uri": "https://localhost:8080/"
        },
        "id": "_I52-PECi3GL",
        "outputId": "ff83f7a6-b16a-4566-c49e-725b488da992"
      },
      "execution_count": 93,
      "outputs": [
        {
          "output_type": "execute_result",
          "data": {
            "text/plain": [
              "0.9990424728835334"
            ]
          },
          "metadata": {},
          "execution_count": 93
        }
      ]
    },
    {
      "cell_type": "code",
      "source": [
        "rf_auc=BinaryClassificationEvaluator(labelCol='isFraud').evaluate(rf_predictions)"
      ],
      "metadata": {
        "id": "Fp2W3_eri7In"
      },
      "execution_count": 94,
      "outputs": []
    },
    {
      "cell_type": "code",
      "source": [
        "print(rf_auc)"
      ],
      "metadata": {
        "colab": {
          "base_uri": "https://localhost:8080/"
        },
        "id": "FPSto74Oi85v",
        "outputId": "a442f09c-d991-4bf8-bc98-dadd3fdff9a5"
      },
      "execution_count": 95,
      "outputs": [
        {
          "output_type": "stream",
          "name": "stdout",
          "text": [
            "0.9715284337059189\n"
          ]
        }
      ]
    },
    {
      "cell_type": "code",
      "source": [
        ""
      ],
      "metadata": {
        "id": "kFXFLg1Yi-tC"
      },
      "execution_count": null,
      "outputs": []
    }
  ],
  "metadata": {
    "colab": {
      "name": "Aritra_Nayak_ BDSN_Assignmnet.ipynb",
      "provenance": [],
      "collapsed_sections": []
    },
    "kernelspec": {
      "display_name": "Python 3",
      "name": "python3"
    },
    "language_info": {
      "name": "python"
    }
  },
  "nbformat": 4,
  "nbformat_minor": 0
}